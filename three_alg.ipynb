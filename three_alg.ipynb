{
 "cells": [
  {
   "cell_type": "code",
   "execution_count": 1,
   "metadata": {},
   "outputs": [
    {
     "name": "stdout",
     "output_type": "stream",
     "text": [
      "WARNING:tensorflow:From c:\\Users\\shyam\\AppData\\Local\\Programs\\Python\\Python311\\Lib\\site-packages\\keras\\src\\losses.py:2976: The name tf.losses.sparse_softmax_cross_entropy is deprecated. Please use tf.compat.v1.losses.sparse_softmax_cross_entropy instead.\n",
      "\n",
      "2.15.0\n"
     ]
    }
   ],
   "source": [
    "import pandas as pd\n",
    "import numpy as np\n",
    "import tensorflow as tf\n",
    "import os\n",
    "import cv2\n",
    "from glob import glob\n",
    "import seaborn as sns\n",
    "import matplotlib.pyplot as plt\n",
    "import random\n",
    "\n",
    "from keras.preprocessing import image\n",
    "from tensorflow.keras.preprocessing.image import ImageDataGenerator\n",
    "from tensorflow.keras.optimizers import RMSprop,Adam\n",
    "from sklearn.model_selection import train_test_split\n",
    "import tensorflow as tf\n",
    "print(tf.__version__)"
   ]
  },
  {
   "cell_type": "code",
   "execution_count": 45,
   "metadata": {},
   "outputs": [
    {
     "name": "stdout",
     "output_type": "stream",
     "text": [
      "Number of images in training set = 0\n",
      "Number of images in validation set = 0\n",
      "Number of images in testing set = 0\n"
     ]
    }
   ],
   "source": [
    "from PIL import Image\n",
    "import os\n",
    "from glob import glob\n",
    "\n",
    "# Define the base directory\n",
    "BASE_DIR = '\"C:\\\\Users\\\\shyam\\\\Downloads\\\\archive (2)\\\\chest_xray\"'\n",
    "\n",
    "# Define the directories for training, validation, and testing sets\n",
    "train_dir = os.path.join(BASE_DIR, 'train/')\n",
    "val_dir = os.path.join(BASE_DIR, 'val/')\n",
    "test_dir = os.path.join(BASE_DIR, 'test/')\n",
    "\n",
    "# Print the number of images in each directory using glob\n",
    "print('Number of images in training set =', len(glob(train_dir + '*/*')))\n",
    "print('Number of images in validation set =', len(glob(val_dir + '*/*')))\n",
    "print('Number of images in testing set =', len(glob(test_dir + '*/*')))\n"
   ]
  },
  {
   "cell_type": "code",
   "execution_count": 7,
   "metadata": {},
   "outputs": [],
   "source": [
    "\n",
    "\n",
    "train_dir = \"C:\\\\Users\\\\shyam\\\\Downloads\\\\archive (2)\\\\chest_xray\\\\train\"\n",
    "val_dir = \"C:\\\\Users\\\\shyam\\\\Downloads\\\\archive (2)\\\\chest_xray\\\\val\"\n",
    "test_dir = \"C:\\\\Users\\\\shyam\\\\Downloads\\\\archive (2)\\\\chest_xray\\\\test\"\n"
   ]
  },
  {
   "cell_type": "code",
   "execution_count": 47,
   "metadata": {},
   "outputs": [],
   "source": [
    "# Define image dimensions and batch size\n",
    "img_height, img_width = 224, 224\n",
    "batch_size = 32\n"
   ]
  },
  {
   "cell_type": "code",
   "execution_count": 48,
   "metadata": {},
   "outputs": [],
   "source": [
    "from tensorflow.keras.preprocessing.image import ImageDataGenerator\n",
    "\n",
    "train_datagen = ImageDataGenerator(\n",
    "    rescale=1./255,\n",
    "    rotation_range=20,\n",
    "    width_shift_range=0.2,\n",
    "    height_shift_range=0.2,\n",
    "    shear_range=0.2,\n",
    "    zoom_range=0.2,\n",
    "    horizontal_flip=True,\n",
    "    fill_mode='nearest'\n",
    ")\n"
   ]
  },
  {
   "cell_type": "code",
   "execution_count": 49,
   "metadata": {},
   "outputs": [],
   "source": [
    "val_datagen = ImageDataGenerator(rescale=1./255)\n",
    "test_datagen = ImageDataGenerator(rescale=1./255)"
   ]
  },
  {
   "cell_type": "code",
   "execution_count": 50,
   "metadata": {},
   "outputs": [
    {
     "name": "stdout",
     "output_type": "stream",
     "text": [
      "Found 5216 images belonging to 2 classes.\n"
     ]
    }
   ],
   "source": [
    "train_generator = train_datagen.flow_from_directory(\n",
    "    train_dir,\n",
    "    target_size=(img_height, img_width),\n",
    "    batch_size=batch_size,\n",
    "    class_mode='categorical'\n",
    ")\n"
   ]
  },
  {
   "cell_type": "code",
   "execution_count": 51,
   "metadata": {},
   "outputs": [
    {
     "name": "stdout",
     "output_type": "stream",
     "text": [
      "Found 16 images belonging to 2 classes.\n"
     ]
    }
   ],
   "source": [
    "val_generator = val_datagen.flow_from_directory(\n",
    "    val_dir,\n",
    "    target_size=(img_height, img_width),\n",
    "    batch_size=batch_size,\n",
    "    class_mode='categorical'\n",
    ")"
   ]
  },
  {
   "cell_type": "code",
   "execution_count": 52,
   "metadata": {},
   "outputs": [
    {
     "name": "stdout",
     "output_type": "stream",
     "text": [
      "Found 624 images belonging to 2 classes.\n"
     ]
    }
   ],
   "source": [
    "test_generator = test_datagen.flow_from_directory(\n",
    "    test_dir,\n",
    "    target_size=(img_height, img_width),\n",
    "    batch_size=batch_size,\n",
    "    class_mode='categorical',\n",
    "    shuffle=False  # Don't shuffle test data\n",
    ")"
   ]
  },
  {
   "cell_type": "code",
   "execution_count": 53,
   "metadata": {},
   "outputs": [
    {
     "name": "stdout",
     "output_type": "stream",
     "text": [
      "WARNING:tensorflow:From c:\\Users\\shyam\\AppData\\Local\\Programs\\Python\\Python311\\Lib\\site-packages\\keras\\src\\backend.py:873: The name tf.get_default_graph is deprecated. Please use tf.compat.v1.get_default_graph instead.\n",
      "\n",
      "WARNING:tensorflow:From c:\\Users\\shyam\\AppData\\Local\\Programs\\Python\\Python311\\Lib\\site-packages\\keras\\src\\layers\\pooling\\max_pooling2d.py:161: The name tf.nn.max_pool is deprecated. Please use tf.nn.max_pool2d instead.\n",
      "\n"
     ]
    }
   ],
   "source": [
    "model=tf.keras.models.Sequential([\n",
    "    # This is the first convolution\n",
    "    tf.keras.layers.Conv2D(16, (3,3), activation='relu',padding='same', input_shape=(180, 180, 1)),\n",
    "    tf.keras.layers.MaxPooling2D(2, 2),\n",
    "    # The second convolution\n",
    "    tf.keras.layers.Conv2D(32, (3,3), activation='relu',padding='same'),\n",
    "    tf.keras.layers.MaxPooling2D(2,2),\n",
    "    # The third convolution\n",
    "    tf.keras.layers.Conv2D(64, (3,3), activation='relu',padding='same'),\n",
    "    tf.keras.layers.MaxPooling2D(2,2),\n",
    "    # The fourth convolution\n",
    "    tf.keras.layers.Conv2D(64, (3,3), activation='relu',padding='same'),\n",
    "    tf.keras.layers.MaxPooling2D(2,2),\n",
    "    # The fifth convolution\n",
    "    tf.keras.layers.Conv2D(64, (3,3), activation='relu',padding='same'),\n",
    "    tf.keras.layers.MaxPooling2D(2,2),\n",
    "    # Flatten the results to feed into a DNN\n",
    "    tf.keras.layers.Flatten(),\n",
    "    # 512 neuron hidden layer\n",
    "    tf.keras.layers.Dense(512, activation='relu'),\n",
    "    # Only 1 output neuron. It will contain a value from 0-1 \n",
    "    tf.keras.layers.Dense(1, activation='sigmoid')\n",
    "])"
   ]
  },
  {
   "cell_type": "code",
   "execution_count": 54,
   "metadata": {},
   "outputs": [
    {
     "name": "stderr",
     "output_type": "stream",
     "text": [
      "WARNING:absl:`lr` is deprecated in Keras optimizer, please use `learning_rate` or use the legacy optimizer, e.g.,tf.keras.optimizers.legacy.RMSprop.\n"
     ]
    }
   ],
   "source": [
    "model.compile(optimizer=RMSprop(lr=0.001),\n",
    "              loss='binary_crossentropy',\n",
    "              metrics=['accuracy','Precision','Recall'])"
   ]
  },
  {
   "cell_type": "code",
   "execution_count": 55,
   "metadata": {},
   "outputs": [
    {
     "name": "stdout",
     "output_type": "stream",
     "text": [
      "Model: \"sequential\"\n",
      "_________________________________________________________________\n",
      " Layer (type)                Output Shape              Param #   \n",
      "=================================================================\n",
      " conv2d (Conv2D)             (None, 180, 180, 16)      160       \n",
      "                                                                 \n",
      " max_pooling2d (MaxPooling2  (None, 90, 90, 16)        0         \n",
      " D)                                                              \n",
      "                                                                 \n",
      " conv2d_1 (Conv2D)           (None, 90, 90, 32)        4640      \n",
      "                                                                 \n",
      " max_pooling2d_1 (MaxPoolin  (None, 45, 45, 32)        0         \n",
      " g2D)                                                            \n",
      "                                                                 \n",
      " conv2d_2 (Conv2D)           (None, 45, 45, 64)        18496     \n",
      "                                                                 \n",
      " max_pooling2d_2 (MaxPoolin  (None, 22, 22, 64)        0         \n",
      " g2D)                                                            \n",
      "                                                                 \n",
      " conv2d_3 (Conv2D)           (None, 22, 22, 64)        36928     \n",
      "                                                                 \n",
      " max_pooling2d_3 (MaxPoolin  (None, 11, 11, 64)        0         \n",
      " g2D)                                                            \n",
      "                                                                 \n",
      " conv2d_4 (Conv2D)           (None, 11, 11, 64)        36928     \n",
      "                                                                 \n",
      " max_pooling2d_4 (MaxPoolin  (None, 5, 5, 64)          0         \n",
      " g2D)                                                            \n",
      "                                                                 \n",
      " flatten (Flatten)           (None, 1600)              0         \n",
      "                                                                 \n",
      " dense (Dense)               (None, 512)               819712    \n",
      "                                                                 \n",
      " dense_1 (Dense)             (None, 1)                 513       \n",
      "                                                                 \n",
      "=================================================================\n",
      "Total params: 917377 (3.50 MB)\n",
      "Trainable params: 917377 (3.50 MB)\n",
      "Non-trainable params: 0 (0.00 Byte)\n",
      "_________________________________________________________________\n"
     ]
    }
   ],
   "source": [
    "model.summary()"
   ]
  },
  {
   "cell_type": "code",
   "execution_count": 56,
   "metadata": {},
   "outputs": [
    {
     "name": "stdout",
     "output_type": "stream",
     "text": [
      "Found 5216 images belonging to 2 classes.\n",
      "Found 16 images belonging to 2 classes.\n",
      "Found 624 images belonging to 2 classes.\n"
     ]
    }
   ],
   "source": [
    "train_datagen=ImageDataGenerator(rescale=1.0/255,\n",
    "                                 rotation_range=30,\n",
    "                                 width_shift_range=0.2,\n",
    "                                 height_shift_range=0.2,\n",
    "                                 zoom_range=0.2,\n",
    "                                 )\n",
    "\n",
    "val_datagen=ImageDataGenerator(rescale=1.0/255)\n",
    "\n",
    "test_datagen=ImageDataGenerator(rescale=1.0/255)\n",
    "\n",
    "train_generator=train_datagen.flow_from_directory(train_dir,color_mode=\"grayscale\",target_size=(180,180),batch_size=128,class_mode='binary')\n",
    "\n",
    "val_generator=val_datagen.flow_from_directory(val_dir,color_mode=\"grayscale\",target_size=(180,180),batch_size=128,class_mode='binary')\n",
    "\n",
    "test_generator=test_datagen.flow_from_directory(test_dir,color_mode=\"grayscale\",target_size=(180,180),batch_size=128,class_mode='binary')"
   ]
  },
  {
   "cell_type": "code",
   "execution_count": 57,
   "metadata": {},
   "outputs": [
    {
     "name": "stdout",
     "output_type": "stream",
     "text": [
      "Epoch 1/30\n",
      "WARNING:tensorflow:From c:\\Users\\shyam\\AppData\\Local\\Programs\\Python\\Python311\\Lib\\site-packages\\keras\\src\\utils\\tf_utils.py:492: The name tf.ragged.RaggedTensorValue is deprecated. Please use tf.compat.v1.ragged.RaggedTensorValue instead.\n",
      "\n"
     ]
    },
    {
     "name": "stderr",
     "output_type": "stream",
     "text": [
      "WARNING:tensorflow:From c:\\Users\\shyam\\AppData\\Local\\Programs\\Python\\Python311\\Lib\\site-packages\\keras\\src\\utils\\tf_utils.py:492: The name tf.ragged.RaggedTensorValue is deprecated. Please use tf.compat.v1.ragged.RaggedTensorValue instead.\n",
      "\n"
     ]
    },
    {
     "name": "stdout",
     "output_type": "stream",
     "text": [
      "WARNING:tensorflow:From c:\\Users\\shyam\\AppData\\Local\\Programs\\Python\\Python311\\Lib\\site-packages\\keras\\src\\engine\\base_layer_utils.py:384: The name tf.executing_eagerly_outside_functions is deprecated. Please use tf.compat.v1.executing_eagerly_outside_functions instead.\n",
      "\n"
     ]
    },
    {
     "name": "stderr",
     "output_type": "stream",
     "text": [
      "WARNING:tensorflow:From c:\\Users\\shyam\\AppData\\Local\\Programs\\Python\\Python311\\Lib\\site-packages\\keras\\src\\engine\\base_layer_utils.py:384: The name tf.executing_eagerly_outside_functions is deprecated. Please use tf.compat.v1.executing_eagerly_outside_functions instead.\n",
      "\n"
     ]
    },
    {
     "name": "stdout",
     "output_type": "stream",
     "text": [
      "41/41 - 128s - loss: 0.5924 - accuracy: 0.7423 - precision: 0.7429 - recall: 0.9990 - val_loss: 0.7217 - val_accuracy: 0.5000 - val_precision: 0.5000 - val_recall: 1.0000 - 128s/epoch - 3s/step\n",
      "Epoch 2/30\n",
      "41/41 - 60s - loss: 0.4797 - accuracy: 0.7673 - precision: 0.7835 - recall: 0.9489 - val_loss: 0.8973 - val_accuracy: 0.5625 - val_precision: 0.5333 - val_recall: 1.0000 - 60s/epoch - 1s/step\n",
      "Epoch 3/30\n",
      "41/41 - 57s - loss: 0.3708 - accuracy: 0.8278 - precision: 0.8704 - recall: 0.9027 - val_loss: 0.9572 - val_accuracy: 0.6250 - val_precision: 0.5714 - val_recall: 1.0000 - 57s/epoch - 1s/step\n",
      "Epoch 4/30\n",
      "41/41 - 56s - loss: 0.3289 - accuracy: 0.8512 - precision: 0.9045 - recall: 0.8942 - val_loss: 0.3080 - val_accuracy: 0.7500 - val_precision: 0.7000 - val_recall: 0.8750 - 56s/epoch - 1s/step\n",
      "Epoch 5/30\n",
      "41/41 - 61s - loss: 0.3180 - accuracy: 0.8554 - precision: 0.9048 - recall: 0.9001 - val_loss: 0.3063 - val_accuracy: 0.9375 - val_precision: 1.0000 - val_recall: 0.8750 - 61s/epoch - 1s/step\n",
      "Epoch 6/30\n",
      "41/41 - 100s - loss: 0.3081 - accuracy: 0.8675 - precision: 0.9124 - recall: 0.9089 - val_loss: 0.3446 - val_accuracy: 0.8750 - val_precision: 0.8750 - val_recall: 0.8750 - 100s/epoch - 2s/step\n",
      "Epoch 7/30\n",
      "41/41 - 126s - loss: 0.2784 - accuracy: 0.8785 - precision: 0.9234 - recall: 0.9120 - val_loss: 0.3352 - val_accuracy: 0.7500 - val_precision: 0.7000 - val_recall: 0.8750 - 126s/epoch - 3s/step\n",
      "Epoch 8/30\n",
      "41/41 - 82s - loss: 0.2769 - accuracy: 0.8813 - precision: 0.9246 - recall: 0.9148 - val_loss: 0.3048 - val_accuracy: 0.8125 - val_precision: 0.7778 - val_recall: 0.8750 - 82s/epoch - 2s/step\n",
      "Epoch 9/30\n",
      "41/41 - 76s - loss: 0.2740 - accuracy: 0.8783 - precision: 0.9217 - recall: 0.9138 - val_loss: 0.4070 - val_accuracy: 0.8125 - val_precision: 0.7273 - val_recall: 1.0000 - 76s/epoch - 2s/step\n",
      "Epoch 10/30\n",
      "41/41 - 84s - loss: 0.2525 - accuracy: 0.8928 - precision: 0.9324 - recall: 0.9226 - val_loss: 0.2807 - val_accuracy: 0.8125 - val_precision: 0.8571 - val_recall: 0.7500 - 84s/epoch - 2s/step\n",
      "Epoch 11/30\n",
      "41/41 - 122s - loss: 0.2511 - accuracy: 0.8946 - precision: 0.9349 - recall: 0.9223 - val_loss: 0.3489 - val_accuracy: 0.8125 - val_precision: 0.8571 - val_recall: 0.7500 - 122s/epoch - 3s/step\n",
      "Epoch 12/30\n",
      "41/41 - 117s - loss: 0.2467 - accuracy: 0.8938 - precision: 0.9346 - recall: 0.9215 - val_loss: 0.4699 - val_accuracy: 0.7500 - val_precision: 0.6667 - val_recall: 1.0000 - 117s/epoch - 3s/step\n",
      "Epoch 13/30\n",
      "41/41 - 70s - loss: 0.2405 - accuracy: 0.8953 - precision: 0.9352 - recall: 0.9231 - val_loss: 1.1021 - val_accuracy: 0.5625 - val_precision: 0.5333 - val_recall: 1.0000 - 70s/epoch - 2s/step\n",
      "Epoch 14/30\n",
      "41/41 - 58s - loss: 0.2287 - accuracy: 0.9053 - precision: 0.9422 - recall: 0.9295 - val_loss: 0.5225 - val_accuracy: 0.6875 - val_precision: 0.6364 - val_recall: 0.8750 - 58s/epoch - 1s/step\n",
      "Epoch 15/30\n",
      "41/41 - 56s - loss: 0.2223 - accuracy: 0.9080 - precision: 0.9459 - recall: 0.9293 - val_loss: 0.9083 - val_accuracy: 0.6250 - val_precision: 0.5714 - val_recall: 1.0000 - 56s/epoch - 1s/step\n",
      "Epoch 16/30\n",
      "41/41 - 57s - loss: 0.2082 - accuracy: 0.9143 - precision: 0.9506 - recall: 0.9332 - val_loss: 0.7153 - val_accuracy: 0.5625 - val_precision: 0.5333 - val_recall: 1.0000 - 57s/epoch - 1s/step\n",
      "Epoch 17/30\n",
      "41/41 - 55s - loss: 0.2156 - accuracy: 0.9034 - precision: 0.9430 - recall: 0.9259 - val_loss: 0.4731 - val_accuracy: 0.8125 - val_precision: 0.7273 - val_recall: 1.0000 - 55s/epoch - 1s/step\n",
      "Epoch 18/30\n",
      "41/41 - 55s - loss: 0.2071 - accuracy: 0.9151 - precision: 0.9497 - recall: 0.9352 - val_loss: 0.7191 - val_accuracy: 0.6875 - val_precision: 0.6154 - val_recall: 1.0000 - 55s/epoch - 1s/step\n",
      "Epoch 19/30\n",
      "41/41 - 55s - loss: 0.2001 - accuracy: 0.9128 - precision: 0.9479 - recall: 0.9339 - val_loss: 0.4407 - val_accuracy: 0.7500 - val_precision: 0.7000 - val_recall: 0.8750 - 55s/epoch - 1s/step\n",
      "Epoch 20/30\n",
      "41/41 - 61s - loss: 0.1893 - accuracy: 0.9231 - precision: 0.9526 - recall: 0.9435 - val_loss: 0.4358 - val_accuracy: 0.8125 - val_precision: 0.7778 - val_recall: 0.8750 - 61s/epoch - 1s/step\n",
      "Epoch 21/30\n",
      "41/41 - 72s - loss: 0.1916 - accuracy: 0.9231 - precision: 0.9535 - recall: 0.9425 - val_loss: 0.4533 - val_accuracy: 0.7500 - val_precision: 0.7000 - val_recall: 0.8750 - 72s/epoch - 2s/step\n",
      "Epoch 22/30\n",
      "41/41 - 121s - loss: 0.1934 - accuracy: 0.9202 - precision: 0.9493 - recall: 0.9430 - val_loss: 0.4272 - val_accuracy: 0.6875 - val_precision: 0.6364 - val_recall: 0.8750 - 121s/epoch - 3s/step\n",
      "Epoch 23/30\n",
      "41/41 - 175s - loss: 0.1712 - accuracy: 0.9291 - precision: 0.9601 - recall: 0.9437 - val_loss: 0.9851 - val_accuracy: 0.5625 - val_precision: 0.5333 - val_recall: 1.0000 - 175s/epoch - 4s/step\n",
      "Epoch 24/30\n",
      "41/41 - 138s - loss: 0.1782 - accuracy: 0.9306 - precision: 0.9568 - recall: 0.9494 - val_loss: 1.3296 - val_accuracy: 0.5625 - val_precision: 0.5333 - val_recall: 1.0000 - 138s/epoch - 3s/step\n",
      "Epoch 25/30\n",
      "41/41 - 124s - loss: 0.1664 - accuracy: 0.9308 - precision: 0.9561 - recall: 0.9505 - val_loss: 0.5671 - val_accuracy: 0.6875 - val_precision: 0.6364 - val_recall: 0.8750 - 124s/epoch - 3s/step\n",
      "Epoch 26/30\n",
      "41/41 - 68s - loss: 0.1707 - accuracy: 0.9300 - precision: 0.9577 - recall: 0.9476 - val_loss: 0.9368 - val_accuracy: 0.5625 - val_precision: 0.5333 - val_recall: 1.0000 - 68s/epoch - 2s/step\n",
      "Epoch 27/30\n",
      "41/41 - 56s - loss: 0.1753 - accuracy: 0.9281 - precision: 0.9553 - recall: 0.9476 - val_loss: 0.4762 - val_accuracy: 0.7500 - val_precision: 0.6667 - val_recall: 1.0000 - 56s/epoch - 1s/step\n",
      "Epoch 28/30\n",
      "41/41 - 57s - loss: 0.1593 - accuracy: 0.9354 - precision: 0.9600 - recall: 0.9528 - val_loss: 0.4122 - val_accuracy: 0.7500 - val_precision: 0.7000 - val_recall: 0.8750 - 57s/epoch - 1s/step\n",
      "Epoch 29/30\n",
      "41/41 - 78s - loss: 0.1604 - accuracy: 0.9362 - precision: 0.9612 - recall: 0.9525 - val_loss: 0.6937 - val_accuracy: 0.5625 - val_precision: 0.5333 - val_recall: 1.0000 - 78s/epoch - 2s/step\n",
      "Epoch 30/30\n",
      "41/41 - 85s - loss: 0.1669 - accuracy: 0.9362 - precision: 0.9600 - recall: 0.9538 - val_loss: 0.6130 - val_accuracy: 0.6250 - val_precision: 0.5714 - val_recall: 1.0000 - 85s/epoch - 2s/step\n"
     ]
    }
   ],
   "source": [
    "history=model.fit(train_generator,validation_data=val_generator,epochs=30,verbose=2)\n"
   ]
  },
  {
   "cell_type": "code",
   "execution_count": null,
   "metadata": {},
   "outputs": [],
   "source": [
    "model.save(\"cnn_1.h5\")"
   ]
  },
  {
   "cell_type": "code",
   "execution_count": 58,
   "metadata": {},
   "outputs": [
    {
     "data": {
      "image/png": "[encoded data removed]",
      "text/plain": [
       "<Figure size 640x480 with 1 Axes>"
      ]
     },
     "metadata": {},
     "output_type": "display_data"
    },
    {
     "data": {
      "image/png": "[encoded data removed]",
      "text/plain": [
       "<Figure size 640x480 with 1 Axes>"
      ]
     },
     "metadata": {},
     "output_type": "display_data"
    },
    {
     "data": {
      "image/png": "[encoded data removed]",
      "text/plain": [
       "<Figure size 640x480 with 1 Axes>"
      ]
     },
     "metadata": {},
     "output_type": "display_data"
    },
    {
     "data": {
      "image/png": "[encoded data removed]",
      "text/plain": [
       "<Figure size 640x480 with 1 Axes>"
      ]
     },
     "metadata": {},
     "output_type": "display_data"
    }
   ],
   "source": [
    "acc = history.history['accuracy']\n",
    "val_acc = history.history['val_accuracy']\n",
    "\n",
    "train_precision=history.history['precision']\n",
    "val_precision=history.history['val_precision']\n",
    "\n",
    "train_recall=history.history['recall']\n",
    "val_recall=history.history['val_recall']\n",
    "\n",
    "loss = history.history['loss']\n",
    "val_loss = history.history['val_loss']\n",
    "\n",
    "epochs = range(len(acc))\n",
    "\n",
    "plt.plot(epochs, acc, 'r', label='Training accuracy')\n",
    "plt.plot(epochs, val_acc, 'b', label='Validation accuracy')\n",
    "plt.title('Training and validation accuracy')\n",
    "plt.legend()\n",
    "plt.figure()\n",
    "\n",
    "plt.plot(epochs, train_precision, 'r', label='Training precision')\n",
    "plt.plot(epochs, val_precision, 'b', label='Validation precision')\n",
    "plt.title('Training and validation precision')\n",
    "plt.legend()\n",
    "plt.figure()\n",
    "\n",
    "plt.plot(epochs, train_recall, 'r', label='Training recall')\n",
    "plt.plot(epochs, val_recall, 'b', label='Validation recall')\n",
    "plt.title('Training and validation recall')\n",
    "plt.legend()\n",
    "plt.figure()\n",
    "\n",
    "plt.plot(epochs, loss, 'r', label='Training Loss')\n",
    "plt.plot(epochs, val_loss, 'b', label='Validation Loss')\n",
    "plt.title('Training and validation loss')\n",
    "plt.legend()\n",
    "\n",
    "plt.show()"
   ]
  },
  {
   "cell_type": "code",
   "execution_count": 59,
   "metadata": {},
   "outputs": [
    {
     "name": "stderr",
     "output_type": "stream",
     "text": [
      "C:\\Users\\shyam\\AppData\\Local\\Temp\\ipykernel_30436\\3899411721.py:1: UserWarning: `Model.evaluate_generator` is deprecated and will be removed in a future version. Please use `Model.evaluate`, which supports generators.\n",
      "  eval_result1 = model.evaluate_generator(test_generator, 624)\n"
     ]
    },
    {
     "name": "stdout",
     "output_type": "stream",
     "text": [
      "WARNING:tensorflow:Your input ran out of data; interrupting training. Make sure that your dataset or generator can generate at least `steps_per_epoch * epochs` batches (in this case, 624 batches). You may need to use the repeat() function when building your dataset.\n"
     ]
    },
    {
     "name": "stderr",
     "output_type": "stream",
     "text": [
      "WARNING:tensorflow:Your input ran out of data; interrupting training. Make sure that your dataset or generator can generate at least `steps_per_epoch * epochs` batches (in this case, 624 batches). You may need to use the repeat() function when building your dataset.\n"
     ]
    },
    {
     "name": "stdout",
     "output_type": "stream",
     "text": [
      "loss  : 0.2867334187030792\n",
      "accuracy  : 0.9038461446762085\n",
      "Precision : 0.8716216087341309\n",
      "Recall : 0.9923076629638672\n"
     ]
    }
   ],
   "source": [
    "eval_result1 = model.evaluate_generator(test_generator, 624)\n",
    "print('loss  :', eval_result1[0])\n",
    "print('accuracy  :', eval_result1[1])\n",
    "print('Precision :', eval_result1[2])\n",
    "print('Recall :', eval_result1[3])"
   ]
  },
  {
   "cell_type": "code",
   "execution_count": 60,
   "metadata": {},
   "outputs": [
    {
     "name": "stdout",
     "output_type": "stream",
     "text": [
      "Found 5216 images belonging to 2 classes.\n",
      "Found 16 images belonging to 2 classes.\n",
      "Found 624 images belonging to 2 classes.\n"
     ]
    }
   ],
   "source": [
    "train_datagen2=ImageDataGenerator(rescale=1.0/255,\n",
    "                                 rotation_range=30,\n",
    "                                 width_shift_range=0.2,\n",
    "                                 height_shift_range=0.2,\n",
    "                                 zoom_range=0.2,\n",
    "                                 )\n",
    "\n",
    "val_datagen2=ImageDataGenerator(rescale=1.0/255)\n",
    "\n",
    "test_datagen2=ImageDataGenerator(rescale=1.0/255)\n",
    "\n",
    "train_generator2=train_datagen2.flow_from_directory(train_dir,target_size=(180,180),batch_size=128,class_mode='binary')\n",
    "\n",
    "val_generator2=val_datagen2.flow_from_directory(val_dir,target_size=(180,180),batch_size=128,class_mode='binary')\n",
    "\n",
    "test_generator2=test_datagen2.flow_from_directory(test_dir,target_size=(180,180),batch_size=128,class_mode='binary')"
   ]
  },
  {
   "cell_type": "code",
   "execution_count": 61,
   "metadata": {},
   "outputs": [],
   "source": [
    "from tensorflow.keras.applications.resnet50 import ResNet50"
   ]
  },
  {
   "cell_type": "code",
   "execution_count": 62,
   "metadata": {},
   "outputs": [
    {
     "name": "stdout",
     "output_type": "stream",
     "text": [
      "Downloading data from https://storage.googleapis.com/tensorflow/keras-applications/resnet/resnet50_weights_tf_dim_ordering_tf_kernels_notop.h5\n",
      "94765736/94765736 [==============================] - 6s 0us/step\n"
     ]
    }
   ],
   "source": [
    "pretrained_model2 = ResNet50(weights= 'imagenet', include_top=False, input_shape= (180,180,3))\n",
    "\n",
    "#freazing the trained layers\n",
    "for layers in pretrained_model2.layers:\n",
    "    layers.trainable = False\n",
    "#pretrained_model3.summary()"
   ]
  },
  {
   "cell_type": "code",
   "execution_count": 63,
   "metadata": {},
   "outputs": [
    {
     "name": "stderr",
     "output_type": "stream",
     "text": [
      "WARNING:absl:`lr` is deprecated in Keras optimizer, please use `learning_rate` or use the legacy optimizer, e.g.,tf.keras.optimizers.legacy.RMSprop.\n"
     ]
    }
   ],
   "source": [
    "last_layer=pretrained_model2.get_layer('conv5_block3_1_relu')\n",
    "last_output = last_layer.output\n",
    "\n",
    "x=tf.keras.layers.Flatten()(last_output)\n",
    "x=tf.keras.layers.Dense(1024,activation='relu')(x)\n",
    "x=tf.keras.layers.Dropout(0.2)(x)\n",
    "x=tf.keras.layers.Dense(256,activation='relu')(x)\n",
    "x=tf.keras.layers.Dropout(0.2)(x)\n",
    "x=tf.keras.layers.Dense(1,activation='sigmoid')(x)\n",
    "\n",
    "model2=tf.keras.Model(pretrained_model2.input,x)\n",
    "\n",
    "model2.compile(optimizer=RMSprop(lr=0.001),\n",
    "              loss='binary_crossentropy',\n",
    "               metrics=['accuracy','Precision','Recall'])\n",
    "\n",
    "#model3.summary()"
   ]
  },
  {
   "cell_type": "code",
   "execution_count": 64,
   "metadata": {},
   "outputs": [
    {
     "name": "stdout",
     "output_type": "stream",
     "text": [
      "Epoch 1/30\n",
      "41/41 - 309s - loss: 0.8953 - accuracy: 0.7224 - precision: 0.7454 - recall: 0.9512 - val_loss: 0.7458 - val_accuracy: 0.5000 - val_precision: 0.5000 - val_recall: 1.0000 - 309s/epoch - 8s/step\n",
      "Epoch 2/30\n",
      "41/41 - 283s - loss: 0.5773 - accuracy: 0.7429 - precision: 0.7429 - recall: 1.0000 - val_loss: 0.8739 - val_accuracy: 0.5000 - val_precision: 0.5000 - val_recall: 1.0000 - 283s/epoch - 7s/step\n",
      "Epoch 3/30\n",
      "41/41 - 200s - loss: 0.5777 - accuracy: 0.7429 - precision: 0.7429 - recall: 1.0000 - val_loss: 0.8793 - val_accuracy: 0.5000 - val_precision: 0.5000 - val_recall: 1.0000 - 200s/epoch - 5s/step\n",
      "Epoch 4/30\n",
      "41/41 - 226s - loss: 0.5676 - accuracy: 0.7429 - precision: 0.7429 - recall: 1.0000 - val_loss: 0.8196 - val_accuracy: 0.5000 - val_precision: 0.5000 - val_recall: 1.0000 - 226s/epoch - 6s/step\n",
      "Epoch 5/30\n",
      "41/41 - 205s - loss: 0.5585 - accuracy: 0.7429 - precision: 0.7429 - recall: 1.0000 - val_loss: 0.9500 - val_accuracy: 0.5000 - val_precision: 0.5000 - val_recall: 1.0000 - 205s/epoch - 5s/step\n",
      "Epoch 6/30\n",
      "41/41 - 296s - loss: 0.5488 - accuracy: 0.7429 - precision: 0.7429 - recall: 1.0000 - val_loss: 0.6780 - val_accuracy: 0.5000 - val_precision: 0.5000 - val_recall: 1.0000 - 296s/epoch - 7s/step\n",
      "Epoch 7/30\n",
      "41/41 - 212s - loss: 0.5389 - accuracy: 0.7429 - precision: 0.7429 - recall: 1.0000 - val_loss: 0.9424 - val_accuracy: 0.5000 - val_precision: 0.5000 - val_recall: 1.0000 - 212s/epoch - 5s/step\n",
      "Epoch 8/30\n",
      "41/41 - 174s - loss: 0.5153 - accuracy: 0.7429 - precision: 0.7429 - recall: 1.0000 - val_loss: 0.6612 - val_accuracy: 0.5000 - val_precision: 0.5000 - val_recall: 1.0000 - 174s/epoch - 4s/step\n",
      "Epoch 9/30\n",
      "41/41 - 178s - loss: 0.5165 - accuracy: 0.7429 - precision: 0.7429 - recall: 1.0000 - val_loss: 0.6492 - val_accuracy: 0.5000 - val_precision: 0.5000 - val_recall: 1.0000 - 178s/epoch - 4s/step\n",
      "Epoch 10/30\n",
      "41/41 - 206s - loss: 0.4931 - accuracy: 0.7418 - precision: 0.7524 - recall: 0.9724 - val_loss: 1.0994 - val_accuracy: 0.5000 - val_precision: 0.5000 - val_recall: 1.0000 - 206s/epoch - 5s/step\n",
      "Epoch 11/30\n",
      "41/41 - 217s - loss: 0.5095 - accuracy: 0.7529 - precision: 0.7720 - recall: 0.9471 - val_loss: 0.7852 - val_accuracy: 0.5000 - val_precision: 0.5000 - val_recall: 1.0000 - 217s/epoch - 5s/step\n",
      "Epoch 12/30\n",
      "41/41 - 215s - loss: 0.4769 - accuracy: 0.7621 - precision: 0.7937 - recall: 0.9185 - val_loss: 0.6365 - val_accuracy: 0.6250 - val_precision: 0.5833 - val_recall: 0.8750 - 215s/epoch - 5s/step\n",
      "Epoch 13/30\n",
      "41/41 - 222s - loss: 0.4745 - accuracy: 0.7627 - precision: 0.8053 - recall: 0.8975 - val_loss: 1.2917 - val_accuracy: 0.5000 - val_precision: 0.5000 - val_recall: 1.0000 - 222s/epoch - 5s/step\n",
      "Epoch 14/30\n",
      "41/41 - 209s - loss: 0.4817 - accuracy: 0.7515 - precision: 0.8025 - recall: 0.8828 - val_loss: 0.6956 - val_accuracy: 0.6250 - val_precision: 0.5833 - val_recall: 0.8750 - 209s/epoch - 5s/step\n",
      "Epoch 15/30\n",
      "41/41 - 201s - loss: 0.4793 - accuracy: 0.7575 - precision: 0.8119 - recall: 0.8766 - val_loss: 1.0735 - val_accuracy: 0.5625 - val_precision: 0.5333 - val_recall: 1.0000 - 201s/epoch - 5s/step\n",
      "Epoch 16/30\n",
      "41/41 - 165s - loss: 0.4634 - accuracy: 0.7661 - precision: 0.8274 - recall: 0.8658 - val_loss: 0.7987 - val_accuracy: 0.6250 - val_precision: 0.5714 - val_recall: 1.0000 - 165s/epoch - 4s/step\n",
      "Epoch 17/30\n",
      "41/41 - 163s - loss: 0.4584 - accuracy: 0.7615 - precision: 0.8171 - recall: 0.8748 - val_loss: 1.1598 - val_accuracy: 0.5625 - val_precision: 0.5333 - val_recall: 1.0000 - 163s/epoch - 4s/step\n",
      "Epoch 18/30\n",
      "41/41 - 174s - loss: 0.4631 - accuracy: 0.7671 - precision: 0.8222 - recall: 0.8759 - val_loss: 0.7311 - val_accuracy: 0.6875 - val_precision: 0.6154 - val_recall: 1.0000 - 174s/epoch - 4s/step\n",
      "Epoch 19/30\n",
      "41/41 - 177s - loss: 0.4607 - accuracy: 0.7705 - precision: 0.8267 - recall: 0.8743 - val_loss: 0.8501 - val_accuracy: 0.5625 - val_precision: 0.5333 - val_recall: 1.0000 - 177s/epoch - 4s/step\n",
      "Epoch 20/30\n",
      "41/41 - 169s - loss: 0.4544 - accuracy: 0.7715 - precision: 0.8268 - recall: 0.8759 - val_loss: 1.3445 - val_accuracy: 0.5625 - val_precision: 0.5333 - val_recall: 1.0000 - 169s/epoch - 4s/step\n",
      "Epoch 21/30\n",
      "41/41 - 164s - loss: 0.4564 - accuracy: 0.7782 - precision: 0.8292 - recall: 0.8834 - val_loss: 0.9858 - val_accuracy: 0.5625 - val_precision: 0.5333 - val_recall: 1.0000 - 164s/epoch - 4s/step\n",
      "Epoch 22/30\n",
      "41/41 - 161s - loss: 0.4417 - accuracy: 0.7778 - precision: 0.8402 - recall: 0.8655 - val_loss: 1.1246 - val_accuracy: 0.5625 - val_precision: 0.5333 - val_recall: 1.0000 - 161s/epoch - 4s/step\n",
      "Epoch 23/30\n",
      "41/41 - 167s - loss: 0.4506 - accuracy: 0.7734 - precision: 0.8355 - recall: 0.8653 - val_loss: 0.8978 - val_accuracy: 0.5625 - val_precision: 0.5333 - val_recall: 1.0000 - 167s/epoch - 4s/step\n",
      "Epoch 24/30\n",
      "41/41 - 166s - loss: 0.4384 - accuracy: 0.7774 - precision: 0.8357 - recall: 0.8717 - val_loss: 0.7768 - val_accuracy: 0.6250 - val_precision: 0.5714 - val_recall: 1.0000 - 166s/epoch - 4s/step\n",
      "Epoch 25/30\n",
      "41/41 - 165s - loss: 0.4423 - accuracy: 0.7768 - precision: 0.8420 - recall: 0.8612 - val_loss: 1.0269 - val_accuracy: 0.5625 - val_precision: 0.5333 - val_recall: 1.0000 - 165s/epoch - 4s/step\n",
      "Epoch 26/30\n",
      "41/41 - 164s - loss: 0.4350 - accuracy: 0.7859 - precision: 0.8453 - recall: 0.8712 - val_loss: 0.8949 - val_accuracy: 0.6250 - val_precision: 0.5714 - val_recall: 1.0000 - 164s/epoch - 4s/step\n",
      "Epoch 27/30\n",
      "41/41 - 169s - loss: 0.4376 - accuracy: 0.7782 - precision: 0.8326 - recall: 0.8779 - val_loss: 0.7094 - val_accuracy: 0.6250 - val_precision: 0.5833 - val_recall: 0.8750 - 169s/epoch - 4s/step\n",
      "Epoch 28/30\n",
      "41/41 - 171s - loss: 0.4212 - accuracy: 0.7853 - precision: 0.8422 - recall: 0.8748 - val_loss: 0.7325 - val_accuracy: 0.6250 - val_precision: 0.5833 - val_recall: 0.8750 - 171s/epoch - 4s/step\n",
      "Epoch 29/30\n",
      "41/41 - 167s - loss: 0.4317 - accuracy: 0.7857 - precision: 0.8400 - recall: 0.8790 - val_loss: 0.8848 - val_accuracy: 0.6250 - val_precision: 0.5714 - val_recall: 1.0000 - 167s/epoch - 4s/step\n",
      "Epoch 30/30\n",
      "41/41 - 170s - loss: 0.4338 - accuracy: 0.7801 - precision: 0.8410 - recall: 0.8681 - val_loss: 0.6155 - val_accuracy: 0.6875 - val_precision: 0.6364 - val_recall: 0.8750 - 170s/epoch - 4s/step\n"
     ]
    }
   ],
   "source": [
    "history2=model2.fit(train_generator2,validation_data=val_generator2,epochs=30,verbose=2)"
   ]
  },
  {
   "cell_type": "code",
   "execution_count": null,
   "metadata": {},
   "outputs": [],
   "source": [
    "model.save(\"model_2.h5\")"
   ]
  },
  {
   "cell_type": "code",
   "execution_count": 19,
   "metadata": {},
   "outputs": [
    {
     "name": "stdout",
     "output_type": "stream",
     "text": [
      "Epoch 1/10\n",
      "4/4 [==============================] - 1s 128ms/step - loss: 0.7021 - accuracy: 0.4600 - precision_7: 0.8333 - recall_7: 0.0862 - val_loss: 0.6969 - val_accuracy: 0.6000 - val_precision_7: 1.0000 - val_recall_7: 0.3333\n",
      "Epoch 2/10\n",
      "4/4 [==============================] - 0s 21ms/step - loss: 0.6844 - accuracy: 0.5800 - precision_7: 0.7667 - recall_7: 0.3966 - val_loss: 0.6827 - val_accuracy: 0.6000 - val_precision_7: 0.6667 - val_recall_7: 0.6667\n",
      "Epoch 3/10\n",
      "4/4 [==============================] - 0s 20ms/step - loss: 0.6797 - accuracy: 0.5900 - precision_7: 0.5977 - recall_7: 0.8966 - val_loss: 0.6735 - val_accuracy: 0.5500 - val_precision_7: 0.5789 - val_recall_7: 0.9167\n",
      "Epoch 4/10\n",
      "4/4 [==============================] - 0s 15ms/step - loss: 0.6711 - accuracy: 0.6100 - precision_7: 0.6022 - recall_7: 0.9655 - val_loss: 0.6738 - val_accuracy: 0.5500 - val_precision_7: 0.5789 - val_recall_7: 0.9167\n",
      "Epoch 5/10\n",
      "4/4 [==============================] - 0s 18ms/step - loss: 0.6692 - accuracy: 0.6100 - precision_7: 0.6022 - recall_7: 0.9655 - val_loss: 0.6748 - val_accuracy: 0.5500 - val_precision_7: 0.5882 - val_recall_7: 0.8333\n",
      "Epoch 6/10\n",
      "4/4 [==============================] - 0s 21ms/step - loss: 0.6691 - accuracy: 0.6100 - precision_7: 0.6044 - recall_7: 0.9483 - val_loss: 0.6765 - val_accuracy: 0.6000 - val_precision_7: 0.6250 - val_recall_7: 0.8333\n",
      "Epoch 7/10\n",
      "4/4 [==============================] - 0s 20ms/step - loss: 0.6662 - accuracy: 0.6100 - precision_7: 0.6044 - recall_7: 0.9483 - val_loss: 0.6740 - val_accuracy: 0.5500 - val_precision_7: 0.5789 - val_recall_7: 0.9167\n",
      "Epoch 8/10\n",
      "4/4 [==============================] - 0s 23ms/step - loss: 0.6646 - accuracy: 0.5800 - precision_7: 0.5833 - recall_7: 0.9655 - val_loss: 0.6714 - val_accuracy: 0.6000 - val_precision_7: 0.6000 - val_recall_7: 1.0000\n",
      "Epoch 9/10\n",
      "4/4 [==============================] - 0s 18ms/step - loss: 0.6639 - accuracy: 0.5600 - precision_7: 0.5714 - recall_7: 0.9655 - val_loss: 0.6687 - val_accuracy: 0.6000 - val_precision_7: 0.6000 - val_recall_7: 1.0000\n",
      "Epoch 10/10\n",
      "4/4 [==============================] - 0s 18ms/step - loss: 0.6614 - accuracy: 0.5700 - precision_7: 0.5758 - recall_7: 0.9828 - val_loss: 0.6687 - val_accuracy: 0.6000 - val_precision_7: 0.6000 - val_recall_7: 1.0000\n"
     ]
    },
    {
     "data": {
      "image/png": "[encoded data removed]",
      "text/plain": [
       "<Figure size 640x480 with 1 Axes>"
      ]
     },
     "metadata": {},
     "output_type": "display_data"
    },
    {
     "name": "stderr",
     "output_type": "stream",
     "text": [
      "No artists with labels found to put in legend.  Note that artists whose label start with an underscore are ignored when legend() is called with no argument.\n"
     ]
    },
    {
     "data": {
      "image/png": "[encoded data removed]",
      "text/plain": [
       "<Figure size 640x480 with 1 Axes>"
      ]
     },
     "metadata": {},
     "output_type": "display_data"
    },
    {
     "data": {
      "image/png": "[encoded data removed]",
      "text/plain": [
       "<Figure size 640x480 with 1 Axes>"
      ]
     },
     "metadata": {},
     "output_type": "display_data"
    }
   ],
   "source": [
    "import tensorflow as tf\n",
    "from tensorflow import keras\n",
    "import matplotlib.pyplot as plt\n",
    "import numpy as np\n",
    "\n",
    "# Placeholder data for illustration purposes\n",
    "x_train = np.random.rand(100, 10)  # Assuming 100 samples with 10 features each\n",
    "y_train = np.random.randint(0, 2, size=(100,))  # Random binary labels for illustration\n",
    "x_val = np.random.rand(20, 10)  # Assuming 20 validation samples\n",
    "y_val = np.random.randint(0, 2, size=(20,))  # Random binary labels for validation\n",
    "\n",
    "input_shape = x_train.shape[1]\n",
    "\n",
    "# Define and compile your model\n",
    "model = keras.Sequential([\n",
    "    keras.layers.Dense(128, activation='relu', input_shape=(input_shape,)),\n",
    "    keras.layers.Dense(1, activation='sigmoid')  # Use sigmoid activation for binary classification\n",
    "])\n",
    "model.compile(optimizer='adam',\n",
    "              loss='binary_crossentropy',  # Use binary crossentropy for binary classification\n",
    "              metrics=['accuracy', tf.keras.metrics.Precision(), tf.keras.metrics.Recall()])\n",
    "\n",
    "# Train your model and save its history\n",
    "history2 = model.fit(x_train, y_train, validation_data=(x_val, y_val), epochs=10)\n",
    "\n",
    "# Extract metrics from history\n",
    "acc2 = history2.history['accuracy']\n",
    "val_acc2 = history2.history['val_accuracy']\n",
    "\n",
    "train_precision2 = history2.history.get('precision', [])  # Use .get() to avoid KeyError\n",
    "val_precision2 = history2.history.get('val_precision', [])  # Use .get() to avoid KeyError\n",
    "\n",
    "train_recall2 = history2.history.get('recall', [])  # Use .get() to avoid KeyError\n",
    "val_recall2 = history2.history.get('val_recall', [])  # Use .get() to avoid KeyError\n",
    "\n",
    "loss2 = history2.history['loss']\n",
    "val_loss2 = history2.history['val_loss']\n",
    "\n",
    "epochs = range(len(acc2))\n",
    "\n",
    "# Plot training and validation metrics\n",
    "plt.plot(epochs, acc2, 'r', label='Training accuracy')\n",
    "plt.plot(epochs, val_acc2, 'b', label='Validation accuracy')\n",
    "plt.title('Training and validation accuracy')\n",
    "plt.legend()\n",
    "plt.show()\n",
    "\n",
    "# Plot precision, recall, and loss if available\n",
    "if train_precision2:\n",
    "    plt.plot(epochs, train_precision2, 'r', label='Training precision')\n",
    "if val_precision2:\n",
    "    plt.plot(epochs, val_precision2, 'b', label='Validation precision')\n",
    "if train_recall2:\n",
    "    plt.plot(epochs, train_recall2, 'g', label='Training recall')\n",
    "if val_recall2:\n",
    "    plt.plot(epochs, val_recall2, 'y', label='Validation recall')\n",
    "plt.title('Precision, Recall, and Loss')\n",
    "plt.legend()\n",
    "plt.show()\n",
    "\n",
    "# Plot loss\n",
    "plt.plot(epochs, loss2, 'r', label='Training Loss')\n",
    "plt.plot(epochs, val_loss2, 'b', label='Validation Loss')\n",
    "plt.title('Training and validation loss')\n",
    "plt.legend()\n",
    "plt.show()\n"
   ]
  },
  {
   "cell_type": "code",
   "execution_count": null,
   "metadata": {},
   "outputs": [],
   "source": [
    "model.save(\"model_3.h5\")"
   ]
  },
  {
   "cell_type": "code",
   "execution_count": 28,
   "metadata": {},
   "outputs": [
    {
     "ename": "FileNotFoundError",
     "evalue": "[WinError 3] The system cannot find the path specified: 'd:\\\\vaan\\\\test_data'",
     "output_type": "error",
     "traceback": [
      "\u001b[1;31m---------------------------------------------------------------------------\u001b[0m",
      "\u001b[1;31mFileNotFoundError\u001b[0m                         Traceback (most recent call last)",
      "Cell \u001b[1;32mIn[28], line 12\u001b[0m\n\u001b[0;32m     10\u001b[0m \u001b[38;5;66;03m# Define your test generator\u001b[39;00m\n\u001b[0;32m     11\u001b[0m test_datagen \u001b[38;5;241m=\u001b[39m ImageDataGenerator(rescale\u001b[38;5;241m=\u001b[39m\u001b[38;5;241m1.\u001b[39m\u001b[38;5;241m/\u001b[39m\u001b[38;5;241m255\u001b[39m)\n\u001b[1;32m---> 12\u001b[0m test_generator2 \u001b[38;5;241m=\u001b[39m \u001b[43mtest_datagen\u001b[49m\u001b[38;5;241;43m.\u001b[39;49m\u001b[43mflow_from_directory\u001b[49m\u001b[43m(\u001b[49m\n\u001b[0;32m     13\u001b[0m \u001b[43m        \u001b[49m\u001b[43mtest_dir\u001b[49m\u001b[43m,\u001b[49m\n\u001b[0;32m     14\u001b[0m \u001b[43m        \u001b[49m\u001b[43mtarget_size\u001b[49m\u001b[38;5;241;43m=\u001b[39;49m\u001b[43m(\u001b[49m\u001b[38;5;241;43m150\u001b[39;49m\u001b[43m,\u001b[49m\u001b[43m \u001b[49m\u001b[38;5;241;43m150\u001b[39;49m\u001b[43m)\u001b[49m\u001b[43m,\u001b[49m\n\u001b[0;32m     15\u001b[0m \u001b[43m        \u001b[49m\u001b[43mbatch_size\u001b[49m\u001b[38;5;241;43m=\u001b[39;49m\u001b[38;5;241;43m32\u001b[39;49m\u001b[43m,\u001b[49m\n\u001b[0;32m     16\u001b[0m \u001b[43m        \u001b[49m\u001b[43mclass_mode\u001b[49m\u001b[38;5;241;43m=\u001b[39;49m\u001b[38;5;124;43m'\u001b[39;49m\u001b[38;5;124;43mbinary\u001b[39;49m\u001b[38;5;124;43m'\u001b[39;49m\u001b[43m)\u001b[49m\n\u001b[0;32m     18\u001b[0m \u001b[38;5;66;03m# Assuming you have defined and compiled your model as 'model2'\u001b[39;00m\n\u001b[0;32m     19\u001b[0m \u001b[38;5;66;03m# Train your model using training data\u001b[39;00m\n\u001b[0;32m     20\u001b[0m history2 \u001b[38;5;241m=\u001b[39m model2\u001b[38;5;241m.\u001b[39mfit(train_generator, epochs\u001b[38;5;241m=\u001b[39m\u001b[38;5;241m10\u001b[39m, validation_data\u001b[38;5;241m=\u001b[39mval_generator)\n",
      "File \u001b[1;32mc:\\Users\\shyam\\AppData\\Local\\Programs\\Python\\Python311\\Lib\\site-packages\\keras\\src\\preprocessing\\image.py:1649\u001b[0m, in \u001b[0;36mImageDataGenerator.flow_from_directory\u001b[1;34m(self, directory, target_size, color_mode, classes, class_mode, batch_size, shuffle, seed, save_to_dir, save_prefix, save_format, follow_links, subset, interpolation, keep_aspect_ratio)\u001b[0m\n\u001b[0;32m   1562\u001b[0m \u001b[38;5;28;01mdef\u001b[39;00m \u001b[38;5;21mflow_from_directory\u001b[39m(\n\u001b[0;32m   1563\u001b[0m     \u001b[38;5;28mself\u001b[39m,\n\u001b[0;32m   1564\u001b[0m     directory,\n\u001b[1;32m   (...)\u001b[0m\n\u001b[0;32m   1578\u001b[0m     keep_aspect_ratio\u001b[38;5;241m=\u001b[39m\u001b[38;5;28;01mFalse\u001b[39;00m,\n\u001b[0;32m   1579\u001b[0m ):\n\u001b[0;32m   1580\u001b[0m \u001b[38;5;250m    \u001b[39m\u001b[38;5;124;03m\"\"\"Takes the path to a directory & generates batches of augmented data.\u001b[39;00m\n\u001b[0;32m   1581\u001b[0m \n\u001b[0;32m   1582\u001b[0m \u001b[38;5;124;03m    Args:\u001b[39;00m\n\u001b[1;32m   (...)\u001b[0m\n\u001b[0;32m   1647\u001b[0m \u001b[38;5;124;03m        and `y` is a numpy array of corresponding labels.\u001b[39;00m\n\u001b[0;32m   1648\u001b[0m \u001b[38;5;124;03m    \"\"\"\u001b[39;00m\n\u001b[1;32m-> 1649\u001b[0m     \u001b[38;5;28;01mreturn\u001b[39;00m \u001b[43mDirectoryIterator\u001b[49m\u001b[43m(\u001b[49m\n\u001b[0;32m   1650\u001b[0m \u001b[43m        \u001b[49m\u001b[43mdirectory\u001b[49m\u001b[43m,\u001b[49m\n\u001b[0;32m   1651\u001b[0m \u001b[43m        \u001b[49m\u001b[38;5;28;43mself\u001b[39;49m\u001b[43m,\u001b[49m\n\u001b[0;32m   1652\u001b[0m \u001b[43m        \u001b[49m\u001b[43mtarget_size\u001b[49m\u001b[38;5;241;43m=\u001b[39;49m\u001b[43mtarget_size\u001b[49m\u001b[43m,\u001b[49m\n\u001b[0;32m   1653\u001b[0m \u001b[43m        \u001b[49m\u001b[43mcolor_mode\u001b[49m\u001b[38;5;241;43m=\u001b[39;49m\u001b[43mcolor_mode\u001b[49m\u001b[43m,\u001b[49m\n\u001b[0;32m   1654\u001b[0m \u001b[43m        \u001b[49m\u001b[43mkeep_aspect_ratio\u001b[49m\u001b[38;5;241;43m=\u001b[39;49m\u001b[43mkeep_aspect_ratio\u001b[49m\u001b[43m,\u001b[49m\n\u001b[0;32m   1655\u001b[0m \u001b[43m        \u001b[49m\u001b[43mclasses\u001b[49m\u001b[38;5;241;43m=\u001b[39;49m\u001b[43mclasses\u001b[49m\u001b[43m,\u001b[49m\n\u001b[0;32m   1656\u001b[0m \u001b[43m        \u001b[49m\u001b[43mclass_mode\u001b[49m\u001b[38;5;241;43m=\u001b[39;49m\u001b[43mclass_mode\u001b[49m\u001b[43m,\u001b[49m\n\u001b[0;32m   1657\u001b[0m \u001b[43m        \u001b[49m\u001b[43mdata_format\u001b[49m\u001b[38;5;241;43m=\u001b[39;49m\u001b[38;5;28;43mself\u001b[39;49m\u001b[38;5;241;43m.\u001b[39;49m\u001b[43mdata_format\u001b[49m\u001b[43m,\u001b[49m\n\u001b[0;32m   1658\u001b[0m \u001b[43m        \u001b[49m\u001b[43mbatch_size\u001b[49m\u001b[38;5;241;43m=\u001b[39;49m\u001b[43mbatch_size\u001b[49m\u001b[43m,\u001b[49m\n\u001b[0;32m   1659\u001b[0m \u001b[43m        \u001b[49m\u001b[43mshuffle\u001b[49m\u001b[38;5;241;43m=\u001b[39;49m\u001b[43mshuffle\u001b[49m\u001b[43m,\u001b[49m\n\u001b[0;32m   1660\u001b[0m \u001b[43m        \u001b[49m\u001b[43mseed\u001b[49m\u001b[38;5;241;43m=\u001b[39;49m\u001b[43mseed\u001b[49m\u001b[43m,\u001b[49m\n\u001b[0;32m   1661\u001b[0m \u001b[43m        \u001b[49m\u001b[43msave_to_dir\u001b[49m\u001b[38;5;241;43m=\u001b[39;49m\u001b[43msave_to_dir\u001b[49m\u001b[43m,\u001b[49m\n\u001b[0;32m   1662\u001b[0m \u001b[43m        \u001b[49m\u001b[43msave_prefix\u001b[49m\u001b[38;5;241;43m=\u001b[39;49m\u001b[43msave_prefix\u001b[49m\u001b[43m,\u001b[49m\n\u001b[0;32m   1663\u001b[0m \u001b[43m        \u001b[49m\u001b[43msave_format\u001b[49m\u001b[38;5;241;43m=\u001b[39;49m\u001b[43msave_format\u001b[49m\u001b[43m,\u001b[49m\n\u001b[0;32m   1664\u001b[0m \u001b[43m        \u001b[49m\u001b[43mfollow_links\u001b[49m\u001b[38;5;241;43m=\u001b[39;49m\u001b[43mfollow_links\u001b[49m\u001b[43m,\u001b[49m\n\u001b[0;32m   1665\u001b[0m \u001b[43m        \u001b[49m\u001b[43msubset\u001b[49m\u001b[38;5;241;43m=\u001b[39;49m\u001b[43msubset\u001b[49m\u001b[43m,\u001b[49m\n\u001b[0;32m   1666\u001b[0m \u001b[43m        \u001b[49m\u001b[43minterpolation\u001b[49m\u001b[38;5;241;43m=\u001b[39;49m\u001b[43minterpolation\u001b[49m\u001b[43m,\u001b[49m\n\u001b[0;32m   1667\u001b[0m \u001b[43m        \u001b[49m\u001b[43mdtype\u001b[49m\u001b[38;5;241;43m=\u001b[39;49m\u001b[38;5;28;43mself\u001b[39;49m\u001b[38;5;241;43m.\u001b[39;49m\u001b[43mdtype\u001b[49m\u001b[43m,\u001b[49m\n\u001b[0;32m   1668\u001b[0m \u001b[43m    \u001b[49m\u001b[43m)\u001b[49m\n",
      "File \u001b[1;32mc:\\Users\\shyam\\AppData\\Local\\Programs\\Python\\Python311\\Lib\\site-packages\\keras\\src\\preprocessing\\image.py:563\u001b[0m, in \u001b[0;36mDirectoryIterator.__init__\u001b[1;34m(self, directory, image_data_generator, target_size, color_mode, classes, class_mode, batch_size, shuffle, seed, data_format, save_to_dir, save_prefix, save_format, follow_links, subset, interpolation, keep_aspect_ratio, dtype)\u001b[0m\n\u001b[0;32m    561\u001b[0m \u001b[38;5;28;01mif\u001b[39;00m \u001b[38;5;129;01mnot\u001b[39;00m classes:\n\u001b[0;32m    562\u001b[0m     classes \u001b[38;5;241m=\u001b[39m []\n\u001b[1;32m--> 563\u001b[0m     \u001b[38;5;28;01mfor\u001b[39;00m subdir \u001b[38;5;129;01min\u001b[39;00m \u001b[38;5;28msorted\u001b[39m(os\u001b[38;5;241m.\u001b[39mlistdir(directory)):\n\u001b[0;32m    564\u001b[0m         \u001b[38;5;28;01mif\u001b[39;00m os\u001b[38;5;241m.\u001b[39mpath\u001b[38;5;241m.\u001b[39misdir(os\u001b[38;5;241m.\u001b[39mpath\u001b[38;5;241m.\u001b[39mjoin(directory, subdir)):\n\u001b[0;32m    565\u001b[0m             classes\u001b[38;5;241m.\u001b[39mappend(subdir)\n",
      "\u001b[1;31mFileNotFoundError\u001b[0m: [WinError 3] The system cannot find the path specified: 'd:\\\\vaan\\\\test_data'"
     ]
    }
   ],
   "source": [
    "from tensorflow.keras.preprocessing.image import ImageDataGenerator\n",
    "import os\n",
    "\n",
    "# Get the current working directory\n",
    "current_dir = os.getcwd()\n",
    "\n",
    "# Define the directory path containing your test images\n",
    "test_dir = os.path.join(current_dir, 'test_data')\n",
    "\n",
    "# Define your test generator\n",
    "test_datagen = ImageDataGenerator(rescale=1./255)\n",
    "test_generator2 = test_datagen.flow_from_directory(\n",
    "        test_dir,\n",
    "        target_size=(150, 150),\n",
    "        batch_size=32,\n",
    "        class_mode='binary')\n",
    "\n",
    "# Assuming you have defined and compiled your model as 'model2'\n",
    "# Train your model using training data\n",
    "history2 = model2.fit(train_generator, epochs=10, validation_data=val_generator)\n",
    "\n",
    "# Compile your model before evaluation\n",
    "model2.compile(optimizer='adam',\n",
    "               loss='binary_crossentropy',\n",
    "               metrics=['accuracy', tf.keras.metrics.Precision(), tf.keras.metrics.Recall()])\n",
    "\n",
    "# Evaluate your model using the test generator\n",
    "eval_result2 = model2.evaluate(test_generator2, steps=len(test_generator2))\n",
    "\n",
    "# Print the evaluation results\n",
    "print('loss  :', eval_result2[0])\n",
    "print('accuracy  :', eval_result2[1])\n",
    "print('Precision :', eval_result2[2])  # Precision is at index 2 in the evaluation result\n",
    "print('Recall :', eval_result2[3])  # Recall is at index 3 in the evaluation result\n"
   ]
  },
  {
   "cell_type": "code",
   "execution_count": 29,
   "metadata": {},
   "outputs": [],
   "source": [
    "from tensorflow.keras.applications.inception_v3 import InceptionV3"
   ]
  },
  {
   "cell_type": "code",
   "execution_count": 30,
   "metadata": {},
   "outputs": [
    {
     "name": "stdout",
     "output_type": "stream",
     "text": [
      "WARNING:tensorflow:From c:\\Users\\shyam\\AppData\\Local\\Programs\\Python\\Python311\\Lib\\site-packages\\keras\\src\\layers\\normalization\\batch_normalization.py:979: The name tf.nn.fused_batch_norm is deprecated. Please use tf.compat.v1.nn.fused_batch_norm instead.\n",
      "\n",
      "Downloading data from https://storage.googleapis.com/tensorflow/keras-applications/inception_v3/inception_v3_weights_tf_dim_ordering_tf_kernels_notop.h5\n",
      "87910968/87910968 [==============================] - 79s 1us/step\n"
     ]
    }
   ],
   "source": [
    "pretrained_model3=InceptionV3(input_shape=(180,180,3),\n",
    "                             include_top=False,\n",
    "                             weights='imagenet')\n",
    "#freazing the trained layers\n",
    "for layers in pretrained_model3.layers:\n",
    "    layers.trainable=False\n",
    "    "
   ]
  },
  {
   "cell_type": "code",
   "execution_count": 31,
   "metadata": {},
   "outputs": [],
   "source": [
    "last_layer=pretrained_model3.get_layer('mixed10')\n",
    "last_output = last_layer.output"
   ]
  },
  {
   "cell_type": "code",
   "execution_count": 33,
   "metadata": {},
   "outputs": [
    {
     "name": "stderr",
     "output_type": "stream",
     "text": [
      "WARNING:absl:`lr` is deprecated in Keras optimizer, please use `learning_rate` or use the legacy optimizer, e.g.,tf.keras.optimizers.legacy.RMSprop.\n"
     ]
    }
   ],
   "source": [
    "import tensorflow as tf\n",
    "from tensorflow.keras.optimizers import RMSprop  # Import RMSprop optimizer\n",
    "\n",
    "# Assuming you have defined and compiled your model as 'model3'\n",
    "model3.compile(optimizer=RMSprop(lr=0.001),\n",
    "               loss='binary_crossentropy',\n",
    "               metrics=['accuracy', tf.keras.metrics.Precision(), tf.keras.metrics.Recall()])\n"
   ]
  },
  {
   "cell_type": "code",
   "execution_count": 34,
   "metadata": {},
   "outputs": [
    {
     "name": "stderr",
     "output_type": "stream",
     "text": [
      "WARNING:absl:`lr` is deprecated in Keras optimizer, please use `learning_rate` or use the legacy optimizer, e.g.,tf.keras.optimizers.legacy.RMSprop.\n"
     ]
    }
   ],
   "source": [
    "x=tf.keras.layers.Flatten()(last_output)\n",
    "x=tf.keras.layers.Dense(1024,activation='relu')(x)\n",
    "x=tf.keras.layers.Dropout(0.2)(x)\n",
    "x=tf.keras.layers.Dense(256,activation='relu')(x)\n",
    "x=tf.keras.layers.Dropout(0.2)(x)\n",
    "x=tf.keras.layers.Dense(1,activation='sigmoid')(x)\n",
    "\n",
    "model3=tf.keras.Model(pretrained_model3.input,x)\n",
    "\n",
    "model3.compile(optimizer=RMSprop(lr=0.001),\n",
    "              loss='binary_crossentropy',\n",
    "               metrics=['accuracy','Precision','Recall'])"
   ]
  },
  {
   "cell_type": "code",
   "execution_count": 6,
   "metadata": {},
   "outputs": [
    {
     "name": "stderr",
     "output_type": "stream",
     "text": [
      "WARNING:absl:`lr` is deprecated in Keras optimizer, please use `learning_rate` or use the legacy optimizer, e.g.,tf.keras.optimizers.legacy.RMSprop.\n"
     ]
    },
    {
     "name": "stdout",
     "output_type": "stream",
     "text": [
      "Found 5216 images belonging to 2 classes.\n",
      "Found 16 images belonging to 2 classes.\n",
      "Epoch 1/10\n",
      "WARNING:tensorflow:From c:\\Users\\shyam\\AppData\\Local\\Programs\\Python\\Python311\\Lib\\site-packages\\keras\\src\\utils\\tf_utils.py:492: The name tf.ragged.RaggedTensorValue is deprecated. Please use tf.compat.v1.ragged.RaggedTensorValue instead.\n",
      "\n"
     ]
    },
    {
     "name": "stderr",
     "output_type": "stream",
     "text": [
      "WARNING:tensorflow:From c:\\Users\\shyam\\AppData\\Local\\Programs\\Python\\Python311\\Lib\\site-packages\\keras\\src\\utils\\tf_utils.py:492: The name tf.ragged.RaggedTensorValue is deprecated. Please use tf.compat.v1.ragged.RaggedTensorValue instead.\n",
      "\n"
     ]
    },
    {
     "name": "stdout",
     "output_type": "stream",
     "text": [
      "WARNING:tensorflow:From c:\\Users\\shyam\\AppData\\Local\\Programs\\Python\\Python311\\Lib\\site-packages\\keras\\src\\engine\\base_layer_utils.py:384: The name tf.executing_eagerly_outside_functions is deprecated. Please use tf.compat.v1.executing_eagerly_outside_functions instead.\n",
      "\n"
     ]
    },
    {
     "name": "stderr",
     "output_type": "stream",
     "text": [
      "WARNING:tensorflow:From c:\\Users\\shyam\\AppData\\Local\\Programs\\Python\\Python311\\Lib\\site-packages\\keras\\src\\engine\\base_layer_utils.py:384: The name tf.executing_eagerly_outside_functions is deprecated. Please use tf.compat.v1.executing_eagerly_outside_functions instead.\n",
      "\n"
     ]
    },
    {
     "name": "stdout",
     "output_type": "stream",
     "text": [
      "163/163 - 177s - loss: 0.5996 - accuracy: 0.7180 - precision_5: 0.7486 - recall_5: 0.9342 - val_loss: 1.0984 - val_accuracy: 0.5000 - val_precision_5: 0.5000 - val_recall_5: 1.0000 - 177s/epoch - 1s/step\n",
      "Epoch 2/10\n",
      "163/163 - 106s - loss: 0.5050 - accuracy: 0.7525 - precision_5: 0.7697 - recall_5: 0.9515 - val_loss: 1.0402 - val_accuracy: 0.5000 - val_precision_5: 0.5000 - val_recall_5: 1.0000 - 106s/epoch - 651ms/step\n",
      "Epoch 3/10\n",
      "163/163 - 104s - loss: 0.4559 - accuracy: 0.7747 - precision_5: 0.8017 - recall_5: 0.9257 - val_loss: 1.6753 - val_accuracy: 0.5000 - val_precision_5: 0.5000 - val_recall_5: 1.0000 - 104s/epoch - 640ms/step\n",
      "Epoch 4/10\n",
      "163/163 - 106s - loss: 0.4301 - accuracy: 0.7935 - precision_5: 0.8267 - recall_5: 0.9135 - val_loss: 0.9580 - val_accuracy: 0.5625 - val_precision_5: 0.5333 - val_recall_5: 1.0000 - 106s/epoch - 653ms/step\n",
      "Epoch 5/10\n",
      "163/163 - 104s - loss: 0.4040 - accuracy: 0.7998 - precision_5: 0.8394 - recall_5: 0.9035 - val_loss: 0.8566 - val_accuracy: 0.5625 - val_precision_5: 0.5333 - val_recall_5: 1.0000 - 104s/epoch - 638ms/step\n",
      "Epoch 6/10\n",
      "163/163 - 107s - loss: 0.3811 - accuracy: 0.8121 - precision_5: 0.8528 - recall_5: 0.9030 - val_loss: 0.6732 - val_accuracy: 0.6250 - val_precision_5: 0.5714 - val_recall_5: 1.0000 - 107s/epoch - 658ms/step\n",
      "Epoch 7/10\n",
      "163/163 - 110s - loss: 0.3654 - accuracy: 0.8286 - precision_5: 0.8703 - recall_5: 0.9040 - val_loss: 0.7511 - val_accuracy: 0.6250 - val_precision_5: 0.5714 - val_recall_5: 1.0000 - 110s/epoch - 676ms/step\n",
      "Epoch 8/10\n",
      "163/163 - 121s - loss: 0.3485 - accuracy: 0.8319 - precision_5: 0.8755 - recall_5: 0.9019 - val_loss: 0.8758 - val_accuracy: 0.5625 - val_precision_5: 0.5333 - val_recall_5: 1.0000 - 121s/epoch - 739ms/step\n",
      "Epoch 9/10\n",
      "163/163 - 106s - loss: 0.3460 - accuracy: 0.8397 - precision_5: 0.8798 - recall_5: 0.9084 - val_loss: 0.5241 - val_accuracy: 0.6250 - val_precision_5: 0.5833 - val_recall_5: 0.8750 - 106s/epoch - 647ms/step\n",
      "Epoch 10/10\n",
      "163/163 - 117s - loss: 0.3343 - accuracy: 0.8441 - precision_5: 0.8894 - recall_5: 0.9025 - val_loss: 1.6122 - val_accuracy: 0.5625 - val_precision_5: 0.5333 - val_recall_5: 1.0000 - 117s/epoch - 717ms/step\n"
     ]
    }
   ],
   "source": [
    "import os\n",
    "from tensorflow.keras.preprocessing.image import ImageDataGenerator\n",
    "from tensorflow.keras.optimizers import RMSprop\n",
    "from tensorflow.keras.applications import ResNet50\n",
    "\n",
    "# Get absolute paths to your directories\n",
    "train_dir = \"C:\\\\Users\\\\shyam\\\\Downloads\\\\archive (2)\\\\chest_xray\\\\train\"\n",
    "val_dir = \"C:\\\\Users\\\\shyam\\\\Downloads\\\\archive (2)\\\\chest_xray\\\\val\"\n",
    "\n",
    "# Assuming ResNet50 is your pre-trained model\n",
    "pretrained_model = ResNet50(include_top=False, weights='imagenet', input_shape=(150, 150, 3))\n",
    "\n",
    "# Freeze the layers of the pre-trained model\n",
    "for layer in pretrained_model.layers:\n",
    "    layer.trainable = False\n",
    "\n",
    "# Define your model architecture\n",
    "x = pretrained_model.output\n",
    "x = tf.keras.layers.GlobalAveragePooling2D()(x)\n",
    "x = tf.keras.layers.Dense(1024, activation='relu')(x)\n",
    "output = tf.keras.layers.Dense(1, activation='sigmoid')(x)\n",
    "\n",
    "model3 = tf.keras.Model(pretrained_model.input, output)\n",
    "\n",
    "# Compile the model\n",
    "model3.compile(optimizer=RMSprop(lr=0.001),\n",
    "               loss='binary_crossentropy',\n",
    "               metrics=['accuracy', tf.keras.metrics.Precision(), tf.keras.metrics.Recall()])\n",
    "\n",
    "# Define your data generators\n",
    "train_datagen = ImageDataGenerator(rescale=1./255)\n",
    "val_datagen = ImageDataGenerator(rescale=1./255)\n",
    "\n",
    "train_generator = train_datagen.flow_from_directory(\n",
    "    train_dir,\n",
    "    target_size=(150, 150),\n",
    "    batch_size=32,\n",
    "    class_mode='binary'\n",
    ")\n",
    "\n",
    "val_generator = val_datagen.flow_from_directory(\n",
    "    val_dir,\n",
    "    target_size=(150, 150),\n",
    "    batch_size=32,\n",
    "    class_mode='binary'\n",
    ")\n",
    "\n",
    "# Train your model using the data generators\n",
    "history3 = model3.fit(train_generator, validation_data=val_generator, epochs=10, verbose=2)\n"
   ]
  },
  {
   "cell_type": "code",
   "execution_count": null,
   "metadata": {},
   "outputs": [],
   "source": [
    "model3.save(\"model_4.h5\")"
   ]
  },
  {
   "cell_type": "code",
   "execution_count": null,
   "metadata": {},
   "outputs": [],
   "source": [
    "acc3 = history3.history['accuracy']\n",
    "val_acc3 = history3.history['val_accuracy']\n",
    "\n",
    "train_precision3=history3.history['precision']\n",
    "val_precision3=history3.history['val_precision']\n",
    "\n",
    "train_recall3=history3.history['recall']\n",
    "val_recall3=history3.history['val_recall']\n",
    "\n",
    "loss3 = history3.history['loss']\n",
    "val_loss3 = history3.history['val_loss']\n",
    "epochs = range(len(acc3))\n",
    "\n",
    "plt.plot(epochs, acc3, 'r', label='Training accuracy')\n",
    "plt.plot(epochs, val_acc3, 'b', label='Validation accuracy')\n",
    "plt.title('Training and validation accuracy')\n",
    "plt.legend()\n",
    "plt.show()\n",
    "\n",
    "plt.plot(epochs, train_precision3, 'r', label='Training precision')\n",
    "plt.plot(epochs, val_precision3, 'b', label='Validation precision')\n",
    "plt.title('Training and validation precision')\n",
    "plt.legend()\n",
    "plt.show()\n",
    "\n",
    "plt.plot(epochs, train_recall3, 'r', label='Training recall')\n",
    "plt.plot(epochs, val_recall3, 'b', label='Validation recall')\n",
    "plt.title('Training and validation recall')\n",
    "plt.legend()\n",
    "plt.show()\n",
    "\n",
    "plt.plot(epochs, loss3, 'r', label='Training Loss')\n",
    "plt.plot(epochs, val_loss3, 'b', label='Validation Loss')\n",
    "plt.title('Training and validation loss')\n",
    "plt.legend()\n",
    "\n",
    "plt.show()"
   ]
  },
  {
   "cell_type": "code",
   "execution_count": 2,
   "metadata": {},
   "outputs": [],
   "source": [
    "from tensorflow.keras.models import Sequential\n",
    "from tensorflow.keras.layers import LSTM, Dense, Flatten"
   ]
  },
  {
   "cell_type": "code",
   "execution_count": 3,
   "metadata": {},
   "outputs": [],
   "source": [
    "from tensorflow.keras.preprocessing.image import ImageDataGenerator\n",
    "\n",
    "train_datagen = ImageDataGenerator(\n",
    "    rescale=1./255,\n",
    "    rotation_range=20,\n",
    "    width_shift_range=0.2,\n",
    "    height_shift_range=0.2,\n",
    "    shear_range=0.2,\n",
    "    zoom_range=0.2,\n",
    "    horizontal_flip=True,\n",
    "    fill_mode='nearest'\n",
    ")\n"
   ]
  },
  {
   "cell_type": "code",
   "execution_count": 4,
   "metadata": {},
   "outputs": [],
   "source": [
    "val_datagen = ImageDataGenerator(rescale=1./255)\n",
    "test_datagen = ImageDataGenerator(rescale=1./255)"
   ]
  },
  {
   "cell_type": "code",
   "execution_count": 5,
   "metadata": {},
   "outputs": [],
   "source": [
    "img_height, img_width = 224, 224\n",
    "batch_size = 32"
   ]
  },
  {
   "cell_type": "code",
   "execution_count": 8,
   "metadata": {},
   "outputs": [
    {
     "name": "stdout",
     "output_type": "stream",
     "text": [
      "Found 5216 images belonging to 2 classes.\n"
     ]
    }
   ],
   "source": [
    "train_generator = train_datagen.flow_from_directory(\n",
    "    train_dir,\n",
    "    target_size=(img_height, img_width),\n",
    "    batch_size=batch_size,\n",
    "    class_mode='categorical'\n",
    ")\n"
   ]
  },
  {
   "cell_type": "code",
   "execution_count": 9,
   "metadata": {},
   "outputs": [
    {
     "name": "stdout",
     "output_type": "stream",
     "text": [
      "Found 16 images belonging to 2 classes.\n"
     ]
    }
   ],
   "source": [
    "val_generator = val_datagen.flow_from_directory(\n",
    "    val_dir,\n",
    "    target_size=(img_height, img_width),\n",
    "    batch_size=batch_size,\n",
    "    class_mode='categorical'\n",
    ")"
   ]
  },
  {
   "cell_type": "code",
   "execution_count": 10,
   "metadata": {},
   "outputs": [],
   "source": [
    "test_dir = \"C:\\\\Users\\\\shyam\\\\Downloads\\\\archive (2)\\\\chest_xray\\\\test\""
   ]
  },
  {
   "cell_type": "code",
   "execution_count": 11,
   "metadata": {},
   "outputs": [
    {
     "name": "stdout",
     "output_type": "stream",
     "text": [
      "Found 624 images belonging to 2 classes.\n"
     ]
    }
   ],
   "source": [
    "test_generator = test_datagen.flow_from_directory(\n",
    "    test_dir,\n",
    "    target_size=(img_height, img_width),\n",
    "    batch_size=batch_size,\n",
    "    class_mode='categorical',\n",
    "    shuffle=False  # Don't shuffle test data\n",
    ")"
   ]
  },
  {
   "cell_type": "code",
   "execution_count": 12,
   "metadata": {},
   "outputs": [],
   "source": [
    "from tensorflow.keras.models import Sequential\n",
    "from tensorflow.keras.layers import LSTM, Dense, Flatten"
   ]
  },
  {
   "cell_type": "code",
   "execution_count": 13,
   "metadata": {},
   "outputs": [
    {
     "name": "stdout",
     "output_type": "stream",
     "text": [
      "WARNING:tensorflow:From c:\\Users\\shyam\\AppData\\Local\\Programs\\Python\\Python311\\Lib\\site-packages\\keras\\src\\backend.py:1398: The name tf.executing_eagerly_outside_functions is deprecated. Please use tf.compat.v1.executing_eagerly_outside_functions instead.\n",
      "\n",
      "WARNING:tensorflow:From c:\\Users\\shyam\\AppData\\Local\\Programs\\Python\\Python311\\Lib\\site-packages\\keras\\src\\layers\\pooling\\max_pooling2d.py:161: The name tf.nn.max_pool is deprecated. Please use tf.nn.max_pool2d instead.\n",
      "\n"
     ]
    }
   ],
   "source": [
    "from tensorflow.keras.applications import VGG16\n",
    "num_classes = 10  # Number of classes in your classification task\n",
    "\n",
    "\n",
    "base_model = VGG16(weights='imagenet', include_top=False, input_shape=(img_height, img_width, 3))\n",
    "\n",
    "# Freeze base layers\n",
    "for layer in base_model.layers:\n",
    "    layer.trainable = False\n",
    "\n",
    "model = Sequential([\n",
    "    base_model,\n",
    "    Flatten(),\n",
    "    Dense(128, activation='relu'),\n",
    "    Dense(num_classes, activation='softmax')\n",
    "])\n"
   ]
  },
  {
   "cell_type": "code",
   "execution_count": 14,
   "metadata": {},
   "outputs": [],
   "source": [
    "from tensorflow.keras.layers import Dropout\n",
    "\n",
    "model.add(Dropout(0.5))\n"
   ]
  },
  {
   "cell_type": "code",
   "execution_count": 15,
   "metadata": {},
   "outputs": [
    {
     "name": "stdout",
     "output_type": "stream",
     "text": [
      "WARNING:tensorflow:From c:\\Users\\shyam\\AppData\\Local\\Programs\\Python\\Python311\\Lib\\site-packages\\keras\\src\\optimizers\\__init__.py:309: The name tf.train.Optimizer is deprecated. Please use tf.compat.v1.train.Optimizer instead.\n",
      "\n",
      "Model: \"sequential_1\"\n",
      "_________________________________________________________________\n",
      " Layer (type)                Output Shape              Param #   \n",
      "=================================================================\n",
      " vgg16 (Functional)          (None, 7, 7, 512)         14714688  \n",
      "                                                                 \n",
      " flatten_1 (Flatten)         (None, 25088)             0         \n",
      "                                                                 \n",
      " dense_2 (Dense)             (None, 128)               3211392   \n",
      "                                                                 \n",
      " reshape (Reshape)           (None, 1, 128)            0         \n",
      "                                                                 \n",
      " lstm (LSTM)                 (None, 128)               131584    \n",
      "                                                                 \n",
      " dense_3 (Dense)             (None, 10)                1290      \n",
      "                                                                 \n",
      "=================================================================\n",
      "Total params: 18058954 (68.89 MB)\n",
      "Trainable params: 3344266 (12.76 MB)\n",
      "Non-trainable params: 14714688 (56.13 MB)\n",
      "_________________________________________________________________\n"
     ]
    }
   ],
   "source": [
    "from tensorflow.keras.models import Sequential\n",
    "from tensorflow.keras.layers import LSTM, Dense, Flatten, Reshape  # Include Reshape layer\n",
    "from tensorflow.keras.applications import VGG16  # Example: Using VGG16 for feature extraction\n",
    "\n",
    "# Define image dimensions and number of classes\n",
    "img_height, img_width = 224, 224  # Adjust as needed for your images\n",
    "num_classes = 10  # Example number of classes\n",
    "\n",
    "# Create a Sequential model\n",
    "model = Sequential()\n",
    "\n",
    "# Load a pre-trained CNN model (e.g., VGG16) for feature extraction\n",
    "vgg_model = VGG16(weights='imagenet', include_top=False, input_shape=(img_height, img_width, 3))\n",
    "\n",
    "# Freeze the layers of the pre-trained model\n",
    "for layer in vgg_model.layers:\n",
    "    layer.trainable = False\n",
    "\n",
    "# Add the pre-trained model to the Sequential model\n",
    "model.add(vgg_model)\n",
    "\n",
    "# Flatten the output of the pre-trained model\n",
    "model.add(Flatten())\n",
    "\n",
    "# Reshape the flattened output to a 3D tensor for LSTM input\n",
    "model.add(Dense(units=128, activation='relu'))  # Optional dense layer for dimensionality reduction\n",
    "model.add(Reshape((1, -1)))  # Reshape to (1, features) for LSTM input\n",
    "\n",
    "# Add an LSTM layer for sequence processing\n",
    "model.add(LSTM(units=128))\n",
    "\n",
    "# Add a Dense output layer with softmax activation for classification\n",
    "model.add(Dense(units=num_classes, activation='softmax'))\n",
    "\n",
    "# Compile the model\n",
    "model.compile(optimizer='adam', loss='categorical_crossentropy', metrics=['accuracy'])\n",
    "\n",
    "# Print model summary\n",
    "model.summary()\n"
   ]
  },
  {
   "cell_type": "code",
   "execution_count": 16,
   "metadata": {},
   "outputs": [
    {
     "name": "stdout",
     "output_type": "stream",
     "text": [
      "Model: \"sequential_2\"\n",
      "_________________________________________________________________\n",
      " Layer (type)                Output Shape              Param #   \n",
      "=================================================================\n",
      " flatten_2 (Flatten)         (None, 150528)            0         \n",
      "                                                                 \n",
      " dense_4 (Dense)             (None, 128)               19267712  \n",
      "                                                                 \n",
      " dense_5 (Dense)             (None, 1280)              165120    \n",
      "                                                                 \n",
      " reshape_1 (Reshape)         (None, 10, 128)           0         \n",
      "                                                                 \n",
      " lstm_1 (LSTM)               (None, 128)               131584    \n",
      "                                                                 \n",
      " dense_6 (Dense)             (None, 10)                1290      \n",
      "                                                                 \n",
      "=================================================================\n",
      "Total params: 19565706 (74.64 MB)\n",
      "Trainable params: 19565706 (74.64 MB)\n",
      "Non-trainable params: 0 (0.00 Byte)\n",
      "_________________________________________________________________\n"
     ]
    }
   ],
   "source": [
    "from tensorflow.keras.models import Sequential\n",
    "from tensorflow.keras.layers import Dense, Flatten, LSTM, Reshape\n",
    "\n",
    "# Define your data dimensions\n",
    "img_height = 224\n",
    "img_width = 224\n",
    "num_classes = 10  # Example number of classes\n",
    "sequence_length = 10  # Example sequence length\n",
    "features_per_timestep = 128  # Example number of features per timestep\n",
    "\n",
    "# Define your model architecture\n",
    "model = Sequential()\n",
    "model.add(Flatten(input_shape=(img_height, img_width, 3)))  # Assuming image input shape\n",
    "model.add(Dense(units=128, activation='relu'))  # Optional dense layer for dimensionality reduction\n",
    "\n",
    "# Reshape the flattened output to a sequence of features\n",
    "model.add(Dense(units=sequence_length * features_per_timestep))  # Adjust units based on your sequence length and features per timestep\n",
    "model.add(Reshape((sequence_length, features_per_timestep)))  # Reshape to (sequence_length, features_per_timestep)\n",
    "\n",
    "# Add an LSTM layer for sequence processing\n",
    "model.add(LSTM(units=128))  # Adjust units as needed\n",
    "\n",
    "# Add a Dense output layer with softmax activation for classification\n",
    "model.add(Dense(units=num_classes, activation='softmax'))\n",
    "\n",
    "# Compile the model with appropriate loss and metrics\n",
    "model.compile(optimizer='adam', loss='categorical_crossentropy', metrics=['accuracy'])\n",
    "\n",
    "# Print model summary\n",
    "model.summary()\n"
   ]
  },
  {
   "cell_type": "code",
   "execution_count": 17,
   "metadata": {},
   "outputs": [
    {
     "name": "stdout",
     "output_type": "stream",
     "text": [
      "Model: \"sequential_2\"\n",
      "_________________________________________________________________\n",
      " Layer (type)                Output Shape              Param #   \n",
      "=================================================================\n",
      " flatten_2 (Flatten)         (None, 150528)            0         \n",
      "                                                                 \n",
      " dense_4 (Dense)             (None, 128)               19267712  \n",
      "                                                                 \n",
      " dense_5 (Dense)             (None, 1280)              165120    \n",
      "                                                                 \n",
      " reshape_1 (Reshape)         (None, 10, 128)           0         \n",
      "                                                                 \n",
      " lstm_1 (LSTM)               (None, 128)               131584    \n",
      "                                                                 \n",
      " dense_6 (Dense)             (None, 10)                1290      \n",
      "                                                                 \n",
      " dense_7 (Dense)             (None, 2)                 22        \n",
      "                                                                 \n",
      "=================================================================\n",
      "Total params: 19565728 (74.64 MB)\n",
      "Trainable params: 19565728 (74.64 MB)\n",
      "Non-trainable params: 0 (0.00 Byte)\n",
      "_________________________________________________________________\n"
     ]
    }
   ],
   "source": [
    "# Define your number of classes based on your dataset\n",
    "num_classes = 2  # Update this with the actual number of classes in your dataset\n",
    "\n",
    "# Assuming your model has been defined as shown in the previous message\n",
    "# Modify the output layer to have the correct number of units (equal to num_classes)\n",
    "model.add(Dense(units=num_classes, activation='softmax'))  # Output layer with softmax for multi-class\n",
    "\n",
    "# Compile the model with appropriate loss and metrics\n",
    "model.compile(optimizer='adam', loss='categorical_crossentropy', metrics=['accuracy'])\n",
    "\n",
    "# Print model summary\n",
    "model.summary()\n"
   ]
  },
  {
   "cell_type": "code",
   "execution_count": 18,
   "metadata": {},
   "outputs": [],
   "source": [
    "from tensorflow.keras import optimizers\n",
    "\n",
    "optimizer = optimizers.Adam(clipvalue=1.0)  # Example: clip gradients to [-1, 1]\n"
   ]
  },
  {
   "cell_type": "code",
   "execution_count": 19,
   "metadata": {},
   "outputs": [],
   "source": [
    "from tensorflow.keras.layers import BatchNormalization\n",
    "\n",
    "model.add(BatchNormalization())\n"
   ]
  },
  {
   "cell_type": "code",
   "execution_count": 20,
   "metadata": {},
   "outputs": [
    {
     "name": "stdout",
     "output_type": "stream",
     "text": [
      "Epoch 1/5\n",
      "WARNING:tensorflow:From c:\\Users\\shyam\\AppData\\Local\\Programs\\Python\\Python311\\Lib\\site-packages\\keras\\src\\utils\\tf_utils.py:492: The name tf.ragged.RaggedTensorValue is deprecated. Please use tf.compat.v1.ragged.RaggedTensorValue instead.\n",
      "\n",
      "WARNING:tensorflow:From c:\\Users\\shyam\\AppData\\Local\\Programs\\Python\\Python311\\Lib\\site-packages\\keras\\src\\engine\\base_layer_utils.py:384: The name tf.executing_eagerly_outside_functions is deprecated. Please use tf.compat.v1.executing_eagerly_outside_functions instead.\n",
      "\n",
      "163/163 [==============================] - 91s 539ms/step - loss: nan - accuracy: 0.2592 - lr: 0.0090\n",
      "Epoch 2/5\n",
      "163/163 [==============================] - 87s 536ms/step - loss: nan - accuracy: 0.2571 - lr: 0.0081\n",
      "Epoch 3/5\n",
      "163/163 [==============================] - 82s 500ms/step - loss: nan - accuracy: 0.2571 - lr: 0.0073\n",
      "Epoch 4/5\n",
      "163/163 [==============================] - 84s 517ms/step - loss: nan - accuracy: 0.2571 - lr: 0.0066\n",
      "Epoch 5/5\n",
      "163/163 [==============================] - 181s 1s/step - loss: nan - accuracy: 0.2571 - lr: 0.0059\n"
     ]
    }
   ],
   "source": [
    "from tensorflow.keras.optimizers import SGD\n",
    "from tensorflow.keras.callbacks import LearningRateScheduler\n",
    "\n",
    "def lr_scheduler(epoch, lr):\n",
    "    return lr * 0.9  # Example: decrease learning rate by 10% every epoch\n",
    "\n",
    "model.compile(optimizer=SGD(), loss='categorical_crossentropy', metrics=['accuracy'])\n",
    "\n",
    "lr_callback = LearningRateScheduler(lr_scheduler)\n",
    "\n",
    "history = model.fit(train_generator, epochs=5, callbacks=[lr_callback])\n"
   ]
  },
  {
   "cell_type": "code",
   "execution_count": null,
   "metadata": {},
   "outputs": [],
   "source": []
  },
  {
   "cell_type": "code",
   "execution_count": 21,
   "metadata": {},
   "outputs": [
    {
     "name": "stdout",
     "output_type": "stream",
     "text": [
      "Found 5216 images belonging to 2 classes.\n",
      "Epoch 1/30\n",
      "163/163 [==============================] - 152s 923ms/step - loss: 0.4401 - accuracy: 0.8156\n",
      "Epoch 2/30\n",
      "163/163 [==============================] - 237s 1s/step - loss: 0.3129 - accuracy: 0.8625\n",
      "Epoch 3/30\n",
      "163/163 [==============================] - 228s 1s/step - loss: 0.2805 - accuracy: 0.8756\n",
      "Epoch 4/30\n",
      "163/163 [==============================] - 147s 899ms/step - loss: 0.2728 - accuracy: 0.8829\n",
      "Epoch 5/30\n",
      "163/163 [==============================] - 147s 900ms/step - loss: 0.2540 - accuracy: 0.8949\n",
      "Epoch 6/30\n",
      "163/163 [==============================] - 293s 2s/step - loss: 0.2451 - accuracy: 0.8955\n",
      "Epoch 7/30\n",
      "163/163 [==============================] - 293s 2s/step - loss: 0.2206 - accuracy: 0.9078\n",
      "Epoch 8/30\n",
      "163/163 [==============================] - 298s 2s/step - loss: 0.2198 - accuracy: 0.9112\n",
      "Epoch 9/30\n",
      "163/163 [==============================] - 304s 2s/step - loss: 0.2208 - accuracy: 0.9080\n",
      "Epoch 10/30\n",
      "163/163 [==============================] - 293s 2s/step - loss: 0.2077 - accuracy: 0.9084\n",
      "Epoch 11/30\n",
      "163/163 [==============================] - 219s 1s/step - loss: 0.2019 - accuracy: 0.9160\n",
      "Epoch 12/30\n",
      "163/163 [==============================] - 130s 793ms/step - loss: 0.1906 - accuracy: 0.9193\n",
      "Epoch 13/30\n",
      "163/163 [==============================] - 128s 784ms/step - loss: 0.1816 - accuracy: 0.9245\n",
      "Epoch 14/30\n",
      "163/163 [==============================] - 129s 790ms/step - loss: 0.1888 - accuracy: 0.9225\n",
      "Epoch 15/30\n",
      "163/163 [==============================] - 133s 813ms/step - loss: 0.1836 - accuracy: 0.9283\n",
      "Epoch 16/30\n",
      "163/163 [==============================] - 127s 777ms/step - loss: 0.1644 - accuracy: 0.9362\n",
      "Epoch 17/30\n",
      "163/163 [==============================] - 129s 789ms/step - loss: 0.1763 - accuracy: 0.9287\n",
      "Epoch 18/30\n",
      "163/163 [==============================] - 131s 804ms/step - loss: 0.1618 - accuracy: 0.9367\n",
      "Epoch 19/30\n",
      "163/163 [==============================] - 122s 745ms/step - loss: 0.1629 - accuracy: 0.9348\n",
      "Epoch 20/30\n",
      "163/163 [==============================] - 121s 740ms/step - loss: 0.1536 - accuracy: 0.9402\n",
      "Epoch 21/30\n",
      "163/163 [==============================] - 123s 754ms/step - loss: 0.1503 - accuracy: 0.9415\n",
      "Epoch 22/30\n",
      "163/163 [==============================] - 122s 745ms/step - loss: 0.1607 - accuracy: 0.9363\n",
      "Epoch 23/30\n",
      "163/163 [==============================] - 121s 740ms/step - loss: 0.1606 - accuracy: 0.9367\n",
      "Epoch 24/30\n",
      "163/163 [==============================] - 121s 744ms/step - loss: 0.1469 - accuracy: 0.9398\n",
      "Epoch 25/30\n",
      "163/163 [==============================] - 120s 736ms/step - loss: 0.1509 - accuracy: 0.9406\n",
      "Epoch 26/30\n",
      "163/163 [==============================] - 122s 745ms/step - loss: 0.1419 - accuracy: 0.9425\n",
      "Epoch 27/30\n",
      "163/163 [==============================] - 124s 759ms/step - loss: 0.1428 - accuracy: 0.9429\n",
      "Epoch 28/30\n",
      "163/163 [==============================] - 125s 763ms/step - loss: 0.1324 - accuracy: 0.9492\n",
      "Epoch 29/30\n",
      "163/163 [==============================] - 139s 851ms/step - loss: 0.1384 - accuracy: 0.9465\n",
      "Epoch 30/30\n",
      "163/163 [==============================] - 193s 1s/step - loss: 0.1520 - accuracy: 0.9411\n",
      "Found 624 images belonging to 2 classes.\n",
      "20/20 [==============================] - 18s 861ms/step - loss: 0.3116 - accuracy: 0.8894\n",
      "Test accuracy: 0.8894230723381042\n"
     ]
    }
   ],
   "source": [
    "from tensorflow.keras.models import Sequential\n",
    "from tensorflow.keras.layers import Conv2D, MaxPooling2D, Flatten, Dense, Dropout\n",
    "from tensorflow.keras.optimizers import Adam\n",
    "from tensorflow.keras.preprocessing.image import ImageDataGenerator\n",
    "\n",
    "# Define model architecture\n",
    "model = Sequential([\n",
    "    Conv2D(32, (3, 3), activation='relu', input_shape=(img_height, img_width, 3)),\n",
    "    MaxPooling2D((2, 2)),\n",
    "    Conv2D(64, (3, 3), activation='relu'),\n",
    "    MaxPooling2D((2, 2)),\n",
    "    Conv2D(128, (3, 3), activation='relu'),\n",
    "    MaxPooling2D((2, 2)),\n",
    "    Flatten(),\n",
    "    Dense(128, activation='relu'),\n",
    "    Dropout(0.5),  # Adding dropout for regularization\n",
    "    Dense(num_classes, activation='softmax')\n",
    "])\n",
    "\n",
    "# Compile the model\n",
    "model.compile(optimizer=Adam(learning_rate=0.001),  # Adjust learning rate\n",
    "              loss='categorical_crossentropy',\n",
    "              metrics=['accuracy'])\n",
    "\n",
    "# Data Augmentation\n",
    "train_datagen = ImageDataGenerator(\n",
    "    rescale=1./255,\n",
    "    rotation_range=20,\n",
    "    width_shift_range=0.2,\n",
    "    height_shift_range=0.2,\n",
    "    shear_range=0.2,\n",
    "    zoom_range=0.2,\n",
    "    horizontal_flip=True,\n",
    "    fill_mode='nearest'\n",
    ")\n",
    "\n",
    "train_generator = train_datagen.flow_from_directory(\n",
    "    train_dir,\n",
    "    target_size=(img_height, img_width),\n",
    "    batch_size=batch_size,\n",
    "    class_mode='categorical'\n",
    ")\n",
    "\n",
    "# Train the model\n",
    "history = model.fit(\n",
    "    train_generator,\n",
    "    epochs=30,  # Increase number of epochs\n",
    "    steps_per_epoch=train_generator.samples // batch_size,  # Number of batches per epoch\n",
    "    verbose=1\n",
    ")\n",
    "\n",
    "# Evaluate the model on test data\n",
    "test_datagen = ImageDataGenerator(rescale=1./255)\n",
    "test_generator = test_datagen.flow_from_directory(\n",
    "    test_dir,\n",
    "    target_size=(img_height, img_width),\n",
    "    batch_size=batch_size,\n",
    "    class_mode='categorical'\n",
    ")\n",
    "\n",
    "test_loss, test_accuracy = model.evaluate(test_generator, verbose=1)\n",
    "print(f'Test accuracy: {test_accuracy}')\n",
    " "
   ]
  },
  {
   "cell_type": "code",
   "execution_count": null,
   "metadata": {},
   "outputs": [],
   "source": [
    "model.save(\"model_5.h5\")"
   ]
  },
  {
   "cell_type": "code",
   "execution_count": 22,
   "metadata": {},
   "outputs": [
    {
     "name": "stderr",
     "output_type": "stream",
     "text": [
      "c:\\Users\\shyam\\AppData\\Local\\Programs\\Python\\Python311\\Lib\\site-packages\\keras\\src\\engine\\training.py:3103: UserWarning: You are saving your model as an HDF5 file via `model.save()`. This file format is considered legacy. We recommend using instead the native Keras format, e.g. `model.save('my_model.keras')`.\n",
      "  saving_api.save_model(\n"
     ]
    }
   ],
   "source": [
    "import tensorflow as tf\n",
    "from keras.models import load_model\n",
    "\n",
    "model.save('chest_xray.h5')"
   ]
  },
  {
   "cell_type": "code",
   "execution_count": 44,
   "metadata": {},
   "outputs": [],
   "source": [
    "from keras.models import load_model"
   ]
  },
  {
   "cell_type": "code",
   "execution_count": 45,
   "metadata": {},
   "outputs": [],
   "source": [
    "from keras.preprocessing import image"
   ]
  },
  {
   "cell_type": "code",
   "execution_count": 46,
   "metadata": {},
   "outputs": [],
   "source": [
    "from keras.applications.vgg16 import preprocess_input"
   ]
  },
  {
   "cell_type": "code",
   "execution_count": 47,
   "metadata": {},
   "outputs": [],
   "source": [
    "import numpy as np"
   ]
  },
  {
   "cell_type": "code",
   "execution_count": 48,
   "metadata": {},
   "outputs": [],
   "source": [
    "model=load_model('chest_xray.h5')"
   ]
  },
  {
   "cell_type": "code",
   "execution_count": 32,
   "metadata": {},
   "outputs": [
    {
     "data": {
      "text/plain": [
       "'C:/Users/shyam/Downloads/archive (2)/chest_xray/test/PNEUMONIA/person94_bacteria_457.jpeg'"
      ]
     },
     "execution_count": 32,
     "metadata": {},
     "output_type": "execute_result"
    }
   ],
   "source": [
    "\"C:/Users/shyam/Downloads/archive (2)/chest_xray/test/PNEUMONIA/person94_bacteria_457.jpeg\""
   ]
  },
  {
   "cell_type": "code",
   "execution_count": 36,
   "metadata": {},
   "outputs": [],
   "source": [
    "img=image.load_img('C:/Users/shyam/Downloads/archive (2)/chest_xray/test/PNEUMONIA/person94_bacteria_457.jpeg',target_size=(224,224))"
   ]
  },
  {
   "cell_type": "code",
   "execution_count": 37,
   "metadata": {},
   "outputs": [],
   "source": [
    "x=image.img_to_array(img)"
   ]
  },
  {
   "cell_type": "code",
   "execution_count": 38,
   "metadata": {},
   "outputs": [],
   "source": [
    "x=np.expand_dims(x, axis=0)"
   ]
  },
  {
   "cell_type": "code",
   "execution_count": 39,
   "metadata": {},
   "outputs": [],
   "source": [
    "img_data=preprocess_input(x)"
   ]
  },
  {
   "cell_type": "code",
   "execution_count": 40,
   "metadata": {},
   "outputs": [
    {
     "name": "stdout",
     "output_type": "stream",
     "text": [
      "1/1 [==============================] - 0s 215ms/step\n"
     ]
    }
   ],
   "source": [
    "classes=model.predict(img_data)"
   ]
  },
  {
   "cell_type": "code",
   "execution_count": 41,
   "metadata": {},
   "outputs": [],
   "source": [
    "result=int(classes[0][0])"
   ]
  },
  {
   "cell_type": "code",
   "execution_count": 42,
   "metadata": {},
   "outputs": [
    {
     "name": "stdout",
     "output_type": "stream",
     "text": [
      "Result is Normal\n"
     ]
    }
   ],
   "source": [
    "if result==0:\n",
    "    print(\"Person is Affected By PNEUMONIA\")\n",
    "else:\n",
    "    print(\"Result is Normal\")"
   ]
  }
 ],
 "metadata": {
  "kernelspec": {
   "display_name": "Python 3",
   "language": "python",
   "name": "python3"
  },
  "language_info": {
   "codemirror_mode": {
    "name": "ipython",
    "version": 3
   },
   "file_extension": ".py",
   "mimetype": "text/x-python",
   "name": "python",
   "nbconvert_exporter": "python",
   "pygments_lexer": "ipython3",
   "version": "3.11.3"
  }
 },
 "nbformat": 4,
 "nbformat_minor": 2
}
