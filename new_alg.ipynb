{
 "cells": [
  {
   "cell_type": "code",
   "execution_count": 1,
   "metadata": {},
   "outputs": [
    {
     "name": "stdout",
     "output_type": "stream",
     "text": [
      "WARNING:tensorflow:From c:\\Users\\shyam\\AppData\\Local\\Programs\\Python\\Python311\\Lib\\site-packages\\keras\\src\\losses.py:2976: The name tf.losses.sparse_softmax_cross_entropy is deprecated. Please use tf.compat.v1.losses.sparse_softmax_cross_entropy instead.\n",
      "\n"
     ]
    }
   ],
   "source": [
    "import tensorflow as tf\n",
    "from tensorflow.keras.preprocessing.image import ImageDataGenerator\n"
   ]
  },
  {
   "cell_type": "code",
   "execution_count": 18,
   "metadata": {},
   "outputs": [],
   "source": [
    "train_dir = 'D:/dl project/chest_xray/chest_xray/train'  # Example Windows path using forward slashes\n",
    "val_dir = 'D:/dl project/chest_xray/chest_xray/val'\n",
    "test_dir = 'D:/dl project/chest_xray/chest_xray/test'\n",
    "\n"
   ]
  },
  {
   "cell_type": "code",
   "execution_count": 10,
   "metadata": {},
   "outputs": [],
   "source": [
    "# Define image dimensions and batch size\n",
    "img_height, img_width = 224, 224\n",
    "batch_size = 32\n"
   ]
  },
  {
   "cell_type": "code",
   "execution_count": 11,
   "metadata": {},
   "outputs": [],
   "source": [
    "# Create data generators with preprocessing and augmentation options\n",
    "train_datagen = ImageDataGenerator(\n",
    "    rescale=1./255,\n",
    "    rotation_range=20,\n",
    "    width_shift_range=0.2,\n",
    "    height_shift_range=0.2,\n",
    "    shear_range=0.2,\n",
    "    zoom_range=0.2,\n",
    "    horizontal_flip=True,\n",
    "    fill_mode='nearest'\n",
    ")"
   ]
  },
  {
   "cell_type": "code",
   "execution_count": 12,
   "metadata": {},
   "outputs": [],
   "source": [
    "val_datagen = ImageDataGenerator(rescale=1./255)\n",
    "test_datagen = ImageDataGenerator(rescale=1./255)"
   ]
  },
  {
   "cell_type": "code",
   "execution_count": 15,
   "metadata": {},
   "outputs": [
    {
     "name": "stdout",
     "output_type": "stream",
     "text": [
      "Found 69 images belonging to 2 classes.\n"
     ]
    }
   ],
   "source": [
    "train_generator = train_datagen.flow_from_directory(\n",
    "    train_dir,\n",
    "    target_size=(img_height, img_width),\n",
    "    batch_size=batch_size,\n",
    "    class_mode='categorical'\n",
    ")"
   ]
  },
  {
   "cell_type": "code",
   "execution_count": 19,
   "metadata": {},
   "outputs": [
    {
     "name": "stdout",
     "output_type": "stream",
     "text": [
      "Found 16 images belonging to 2 classes.\n"
     ]
    }
   ],
   "source": [
    "val_generator = val_datagen.flow_from_directory(\n",
    "    val_dir,\n",
    "    target_size=(img_height, img_width),\n",
    "    batch_size=batch_size,\n",
    "    class_mode='categorical'\n",
    ")"
   ]
  },
  {
   "cell_type": "code",
   "execution_count": 20,
   "metadata": {},
   "outputs": [
    {
     "name": "stdout",
     "output_type": "stream",
     "text": [
      "Found 70 images belonging to 2 classes.\n"
     ]
    }
   ],
   "source": [
    "test_generator = test_datagen.flow_from_directory(\n",
    "    test_dir,\n",
    "    target_size=(img_height, img_width),\n",
    "    batch_size=batch_size,\n",
    "    class_mode='categorical',\n",
    "    shuffle=False  # Don't shuffle test data\n",
    ")"
   ]
  },
  {
   "cell_type": "code",
   "execution_count": 25,
   "metadata": {},
   "outputs": [],
   "source": [
    "from tensorflow.keras.models import Sequential\n",
    "from tensorflow.keras.layers import LSTM, Dense, Flatten"
   ]
  },
  {
   "cell_type": "code",
   "execution_count": 32,
   "metadata": {},
   "outputs": [],
   "source": [
    "from tensorflow.keras.layers import Reshape  # Import Reshape layer\n",
    "\n",
    "# Your existing code here...\n",
    "\n",
    "# Flatten the output of the pre-trained model\n",
    "model.add(Flatten())\n",
    "\n",
    "# Reshape the flattened output to a 3D tensor for LSTM input\n",
    "model.add(Dense(units=128, activation='relu'))  # Optional dense layer for dimensionality reduction\n",
    "model.add(Reshape((1, -1)))  # Reshape to (1, features) for LSTM input\n",
    "\n",
    "# Your remaining code here...\n"
   ]
  },
  {
   "cell_type": "code",
   "execution_count": 33,
   "metadata": {},
   "outputs": [
    {
     "name": "stdout",
     "output_type": "stream",
     "text": [
      "WARNING:tensorflow:From c:\\Users\\shyam\\AppData\\Local\\Programs\\Python\\Python311\\Lib\\site-packages\\keras\\src\\optimizers\\__init__.py:309: The name tf.train.Optimizer is deprecated. Please use tf.compat.v1.train.Optimizer instead.\n",
      "\n",
      "Model: \"sequential_10\"\n",
      "_________________________________________________________________\n",
      " Layer (type)                Output Shape              Param #   \n",
      "=================================================================\n",
      " vgg16 (Functional)          (None, 7, 7, 512)         14714688  \n",
      "                                                                 \n",
      " flatten_5 (Flatten)         (None, 25088)             0         \n",
      "                                                                 \n",
      " dense_2 (Dense)             (None, 128)               3211392   \n",
      "                                                                 \n",
      " reshape_1 (Reshape)         (None, 1, 128)            0         \n",
      "                                                                 \n",
      " lstm_4 (LSTM)               (None, 128)               131584    \n",
      "                                                                 \n",
      " dense_3 (Dense)             (None, 10)                1290      \n",
      "                                                                 \n",
      "=================================================================\n",
      "Total params: 18058954 (68.89 MB)\n",
      "Trainable params: 3344266 (12.76 MB)\n",
      "Non-trainable params: 14714688 (56.13 MB)\n",
      "_________________________________________________________________\n"
     ]
    }
   ],
   "source": [
    "from tensorflow.keras.models import Sequential\n",
    "from tensorflow.keras.layers import LSTM, Dense, Flatten\n",
    "from tensorflow.keras.applications import VGG16  # Example: Using VGG16 for feature extraction\n",
    "\n",
    "# Define image dimensions and number of classes\n",
    "img_height, img_width = 224, 224  # Adjust as needed for your images\n",
    "num_classes = 10  # Example number of classes\n",
    "\n",
    "# Create a Sequential model\n",
    "model = Sequential()\n",
    "\n",
    "# Load a pre-trained CNN model (e.g., VGG16) for feature extraction\n",
    "vgg_model = VGG16(weights='imagenet', include_top=False, input_shape=(img_height, img_width, 3))\n",
    "\n",
    "# Freeze the layers of the pre-trained model\n",
    "for layer in vgg_model.layers:\n",
    "    layer.trainable = False\n",
    "\n",
    "# Add the pre-trained model to the Sequential model\n",
    "model.add(vgg_model)\n",
    "\n",
    "# Flatten the output of the pre-trained model\n",
    "model.add(Flatten())\n",
    "\n",
    "# Reshape the flattened output to a 3D tensor for LSTM input\n",
    "model.add(Dense(units=128, activation='relu'))  # Optional dense layer for dimensionality reduction\n",
    "model.add(Reshape((1, -1)))  # Reshape to (1, features) for LSTM input\n",
    "\n",
    "# Add an LSTM layer for sequence processing\n",
    "model.add(LSTM(units=128))\n",
    "\n",
    "# Add a Dense output layer with softmax activation for classification\n",
    "model.add(Dense(units=num_classes, activation='softmax'))\n",
    "\n",
    "# Compile the model\n",
    "model.compile(optimizer='adam', loss='categorical_crossentropy', metrics=['accuracy'])\n",
    "\n",
    "# Print model summary\n",
    "model.summary()\n"
   ]
  },
  {
   "cell_type": "code",
   "execution_count": 37,
   "metadata": {},
   "outputs": [
    {
     "name": "stdout",
     "output_type": "stream",
     "text": [
      "Model: \"sequential_13\"\n",
      "_________________________________________________________________\n",
      " Layer (type)                Output Shape              Param #   \n",
      "=================================================================\n",
      " flatten_8 (Flatten)         (None, 150528)            0         \n",
      "                                                                 \n",
      " dense_6 (Dense)             (None, 128)               19267712  \n",
      "                                                                 \n",
      " dense_7 (Dense)             (None, 1280)              165120    \n",
      "                                                                 \n",
      " reshape_2 (Reshape)         (None, 10, 128)           0         \n",
      "                                                                 \n",
      " lstm_6 (LSTM)               (None, 128)               131584    \n",
      "                                                                 \n",
      " dense_8 (Dense)             (None, 10)                1290      \n",
      "                                                                 \n",
      "=================================================================\n",
      "Total params: 19565706 (74.64 MB)\n",
      "Trainable params: 19565706 (74.64 MB)\n",
      "Non-trainable params: 0 (0.00 Byte)\n",
      "_________________________________________________________________\n"
     ]
    }
   ],
   "source": [
    "from tensorflow.keras.models import Sequential\n",
    "from tensorflow.keras.layers import Dense, Flatten, LSTM, Reshape\n",
    "\n",
    "# Define your data dimensions\n",
    "img_height = 224\n",
    "img_width = 224\n",
    "num_classes = 10  # Example number of classes\n",
    "sequence_length = 10  # Example sequence length\n",
    "features_per_timestep = 128  # Example number of features per timestep\n",
    "\n",
    "# Define your model architecture\n",
    "model = Sequential()\n",
    "model.add(Flatten(input_shape=(img_height, img_width, 3)))  # Assuming image input shape\n",
    "model.add(Dense(units=128, activation='relu'))  # Optional dense layer for dimensionality reduction\n",
    "\n",
    "# Reshape the flattened output to a sequence of features\n",
    "model.add(Dense(units=sequence_length * features_per_timestep))  # Adjust units based on your sequence length and features per timestep\n",
    "model.add(Reshape((sequence_length, features_per_timestep)))  # Reshape to (sequence_length, features_per_timestep)\n",
    "\n",
    "# Add an LSTM layer for sequence processing\n",
    "model.add(LSTM(units=128))  # Adjust units as needed\n",
    "\n",
    "# Add a Dense output layer with softmax activation for classification\n",
    "model.add(Dense(units=num_classes, activation='softmax'))\n",
    "\n",
    "# Compile the model with appropriate loss and metrics\n",
    "model.compile(optimizer='adam', loss='categorical_crossentropy', metrics=['accuracy'])\n",
    "\n",
    "# Print model summary\n",
    "model.summary()\n"
   ]
  },
  {
   "cell_type": "code",
   "execution_count": 39,
   "metadata": {},
   "outputs": [
    {
     "name": "stdout",
     "output_type": "stream",
     "text": [
      "Model: \"sequential_13\"\n",
      "_________________________________________________________________\n",
      " Layer (type)                Output Shape              Param #   \n",
      "=================================================================\n",
      " flatten_8 (Flatten)         (None, 150528)            0         \n",
      "                                                                 \n"
     ]
    },
    {
     "name": "stdout",
     "output_type": "stream",
     "text": [
      " dense_6 (Dense)             (None, 128)               19267712  \n",
      "                                                                 \n",
      " dense_7 (Dense)             (None, 1280)              165120    \n",
      "                                                                 \n",
      " reshape_2 (Reshape)         (None, 10, 128)           0         \n",
      "                                                                 \n",
      " lstm_6 (LSTM)               (None, 128)               131584    \n",
      "                                                                 \n",
      " dense_8 (Dense)             (None, 10)                1290      \n",
      "                                                                 \n",
      " dense_9 (Dense)             (None, 2)                 22        \n",
      "                                                                 \n",
      "=================================================================\n",
      "Total params: 19565728 (74.64 MB)\n",
      "Trainable params: 19565728 (74.64 MB)\n",
      "Non-trainable params: 0 (0.00 Byte)\n",
      "_________________________________________________________________\n"
     ]
    }
   ],
   "source": [
    "# Define your number of classes based on your dataset\n",
    "num_classes = 2  # Update this with the actual number of classes in your dataset\n",
    "\n",
    "# Assuming your model has been defined as shown in the previous message\n",
    "# Modify the output layer to have the correct number of units (equal to num_classes)\n",
    "model.add(Dense(units=num_classes, activation='softmax'))  # Output layer with softmax for multi-class\n",
    "\n",
    "# Compile the model with appropriate loss and metrics\n",
    "model.compile(optimizer='adam', loss='categorical_crossentropy', metrics=['accuracy'])\n",
    "\n",
    "# Print model summary\n",
    "model.summary()\n"
   ]
  },
  {
   "cell_type": "code",
   "execution_count": 40,
   "metadata": {},
   "outputs": [],
   "source": [
    "\n",
    "# Compile the model\n",
    "model.compile(optimizer='adam', loss='categorical_crossentropy', metrics=['accuracy'])"
   ]
  },
  {
   "cell_type": "code",
   "execution_count": 41,
   "metadata": {},
   "outputs": [
    {
     "name": "stdout",
     "output_type": "stream",
     "text": [
      "Epoch 1/10\n",
      "3/3 [==============================] - 7s 1s/step - loss: 0.6936 - accuracy: 0.4783 - val_loss: 0.7079 - val_accuracy: 0.5000\n",
      "Epoch 2/10\n",
      "3/3 [==============================] - 3s 1s/step - loss: 0.7030 - accuracy: 0.4493 - val_loss: 0.6915 - val_accuracy: 0.6875\n",
      "Epoch 3/10\n",
      "3/3 [==============================] - 2s 717ms/step - loss: 0.6935 - accuracy: 0.5362 - val_loss: 0.6947 - val_accuracy: 0.5000\n",
      "Epoch 4/10\n",
      "3/3 [==============================] - 2s 730ms/step - loss: 0.6967 - accuracy: 0.5217 - val_loss: 0.6987 - val_accuracy: 0.5000\n",
      "Epoch 5/10\n",
      "3/3 [==============================] - 3s 786ms/step - loss: 0.6939 - accuracy: 0.5217 - val_loss: 0.6976 - val_accuracy: 0.5000\n",
      "Epoch 6/10\n",
      "3/3 [==============================] - 3s 742ms/step - loss: 0.6919 - accuracy: 0.5217 - val_loss: 0.6946 - val_accuracy: 0.5000\n",
      "Epoch 7/10\n",
      "3/3 [==============================] - 3s 757ms/step - loss: 0.6927 - accuracy: 0.5217 - val_loss: 0.6962 - val_accuracy: 0.5000\n",
      "Epoch 8/10\n",
      "3/3 [==============================] - 2s 1s/step - loss: 0.6919 - accuracy: 0.5217 - val_loss: 0.6953 - val_accuracy: 0.5000\n",
      "Epoch 9/10\n",
      "3/3 [==============================] - 2s 767ms/step - loss: 0.6923 - accuracy: 0.5217 - val_loss: 0.6948 - val_accuracy: 0.5000\n",
      "Epoch 10/10\n",
      "3/3 [==============================] - 2s 1s/step - loss: 0.6941 - accuracy: 0.5217 - val_loss: 0.6934 - val_accuracy: 0.5000\n"
     ]
    },
    {
     "data": {
      "text/plain": [
       "<keras.src.callbacks.History at 0x219242d46d0>"
      ]
     },
     "execution_count": 41,
     "metadata": {},
     "output_type": "execute_result"
    }
   ],
   "source": [
    "# Train the model\n",
    "model.fit(train_generator, epochs=10, validation_data=val_generator)"
   ]
  },
  {
   "cell_type": "code",
   "execution_count": 42,
   "metadata": {},
   "outputs": [
    {
     "name": "stdout",
     "output_type": "stream",
     "text": [
      "3/3 [==============================] - 2s 467ms/step - loss: 0.6872 - accuracy: 0.6429\n"
     ]
    }
   ],
   "source": [
    "\n",
    "# Evaluate the model\n",
    "test_loss, test_accuracy = model.evaluate(test_generator)"
   ]
  }
 ],
 "metadata": {
  "kernelspec": {
   "display_name": "Python 3",
   "language": "python",
   "name": "python3"
  },
  "language_info": {
   "codemirror_mode": {
    "name": "ipython",
    "version": 3
   },
   "file_extension": ".py",
   "mimetype": "text/x-python",
   "name": "python",
   "nbconvert_exporter": "python",
   "pygments_lexer": "ipython3",
   "version": "3.11.3"
  }
 },
 "nbformat": 4,
 "nbformat_minor": 2
}
